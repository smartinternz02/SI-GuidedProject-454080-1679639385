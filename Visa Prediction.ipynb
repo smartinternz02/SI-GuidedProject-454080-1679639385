{
 "cells": [
  {
   "cell_type": "code",
   "execution_count": 26,
   "id": "6197d496",
   "metadata": {},
   "outputs": [],
   "source": [
    "import numpy as np \n",
    "import pandas as pd\n",
    "import matplotlib.pyplot as plt\n",
    "import seaborn as sns"
   ]
  },
  {
   "cell_type": "code",
   "execution_count": 27,
   "id": "6e00eacc",
   "metadata": {},
   "outputs": [],
   "source": [
    "data = pd.read_csv('h1b_kaggle.csv')"
   ]
  },
  {
   "cell_type": "code",
   "execution_count": 28,
   "id": "73f5f86e",
   "metadata": {},
   "outputs": [
    {
     "data": {
      "text/html": [
       "<div>\n",
       "<style scoped>\n",
       "    .dataframe tbody tr th:only-of-type {\n",
       "        vertical-align: middle;\n",
       "    }\n",
       "\n",
       "    .dataframe tbody tr th {\n",
       "        vertical-align: top;\n",
       "    }\n",
       "\n",
       "    .dataframe thead th {\n",
       "        text-align: right;\n",
       "    }\n",
       "</style>\n",
       "<table border=\"1\" class=\"dataframe\">\n",
       "  <thead>\n",
       "    <tr style=\"text-align: right;\">\n",
       "      <th></th>\n",
       "      <th>Unnamed:0</th>\n",
       "      <th>CASE_STATUS</th>\n",
       "      <th>EMPLOYER_NAME</th>\n",
       "      <th>SOC_NAME</th>\n",
       "      <th>JOB_TITLE</th>\n",
       "      <th>FULL_TIME_POSITION</th>\n",
       "      <th>PREVAILING_WAGE</th>\n",
       "      <th>YEAR</th>\n",
       "      <th>WORKSITE</th>\n",
       "      <th>lon</th>\n",
       "      <th>lat</th>\n",
       "    </tr>\n",
       "  </thead>\n",
       "  <tbody>\n",
       "    <tr>\n",
       "      <th>0</th>\n",
       "      <td>1</td>\n",
       "      <td>CERTIFIED-WITHDRAWN</td>\n",
       "      <td>UNIVERSITY OF MICHIGAN</td>\n",
       "      <td>BIOCHEMISTS AND BIOPHYSICISTS</td>\n",
       "      <td>POSTDOCTORAL RESEARCH FELLOW</td>\n",
       "      <td>N</td>\n",
       "      <td>36067.0</td>\n",
       "      <td>2016</td>\n",
       "      <td>ANN ARBOR, MICHIGAN</td>\n",
       "      <td>-83.743038</td>\n",
       "      <td>42.280826</td>\n",
       "    </tr>\n",
       "    <tr>\n",
       "      <th>1</th>\n",
       "      <td>2</td>\n",
       "      <td>CERTIFIED-WITHDRAWN</td>\n",
       "      <td>GOODMAN NETWORKS, INC.</td>\n",
       "      <td>CHIEF EXECUTIVES</td>\n",
       "      <td>CHIEF OPERATING OFFICER</td>\n",
       "      <td>Y</td>\n",
       "      <td>242674.0</td>\n",
       "      <td>2016</td>\n",
       "      <td>PLANO, TEXAS</td>\n",
       "      <td>-96.698886</td>\n",
       "      <td>33.019843</td>\n",
       "    </tr>\n",
       "    <tr>\n",
       "      <th>2</th>\n",
       "      <td>3</td>\n",
       "      <td>CERTIFIED-WITHDRAWN</td>\n",
       "      <td>PORTS AMERICA GROUP, INC.</td>\n",
       "      <td>CHIEF EXECUTIVES</td>\n",
       "      <td>CHIEF PROCESS OFFICER</td>\n",
       "      <td>Y</td>\n",
       "      <td>193066.0</td>\n",
       "      <td>2016</td>\n",
       "      <td>JERSEY CITY, NEW JERSEY</td>\n",
       "      <td>-74.077642</td>\n",
       "      <td>40.728158</td>\n",
       "    </tr>\n",
       "    <tr>\n",
       "      <th>3</th>\n",
       "      <td>4</td>\n",
       "      <td>CERTIFIED-WITHDRAWN</td>\n",
       "      <td>GATES CORPORATION, A WHOLLY-OWNED SUBSIDIARY O...</td>\n",
       "      <td>CHIEF EXECUTIVES</td>\n",
       "      <td>REGIONAL PRESIDEN, AMERICAS</td>\n",
       "      <td>Y</td>\n",
       "      <td>220314.0</td>\n",
       "      <td>2016</td>\n",
       "      <td>DENVER, COLORADO</td>\n",
       "      <td>-104.990251</td>\n",
       "      <td>39.739236</td>\n",
       "    </tr>\n",
       "    <tr>\n",
       "      <th>4</th>\n",
       "      <td>5</td>\n",
       "      <td>WITHDRAWN</td>\n",
       "      <td>PEABODY INVESTMENTS CORP.</td>\n",
       "      <td>CHIEF EXECUTIVES</td>\n",
       "      <td>PRESIDENT MONGOLIA AND INDIA</td>\n",
       "      <td>Y</td>\n",
       "      <td>157518.4</td>\n",
       "      <td>2016</td>\n",
       "      <td>ST. LOUIS, MISSOURI</td>\n",
       "      <td>-90.199404</td>\n",
       "      <td>38.627003</td>\n",
       "    </tr>\n",
       "    <tr>\n",
       "      <th>...</th>\n",
       "      <td>...</td>\n",
       "      <td>...</td>\n",
       "      <td>...</td>\n",
       "      <td>...</td>\n",
       "      <td>...</td>\n",
       "      <td>...</td>\n",
       "      <td>...</td>\n",
       "      <td>...</td>\n",
       "      <td>...</td>\n",
       "      <td>...</td>\n",
       "      <td>...</td>\n",
       "    </tr>\n",
       "    <tr>\n",
       "      <th>1048570</th>\n",
       "      <td>1048571</td>\n",
       "      <td>CERTIFIED</td>\n",
       "      <td>LARSEN &amp; TOUBRO INFOTECH LIMITED</td>\n",
       "      <td>COMPUTER PROGRAMMERS</td>\n",
       "      <td>COMPUTER PROGRAMMER</td>\n",
       "      <td>Y</td>\n",
       "      <td>51605.0</td>\n",
       "      <td>2015</td>\n",
       "      <td>HOUSTON, TEXAS</td>\n",
       "      <td>-95.369803</td>\n",
       "      <td>29.760427</td>\n",
       "    </tr>\n",
       "    <tr>\n",
       "      <th>1048571</th>\n",
       "      <td>1048572</td>\n",
       "      <td>CERTIFIED</td>\n",
       "      <td>ALLSCRIPTS HEALTHCARE, LLC</td>\n",
       "      <td>MANAGERS, ALL OTHER</td>\n",
       "      <td>MANAGER, PROFESSIONAL SERVICES</td>\n",
       "      <td>Y</td>\n",
       "      <td>103792.0</td>\n",
       "      <td>2015</td>\n",
       "      <td>PITTSBURGH, PENNSYLVANIA</td>\n",
       "      <td>-79.995886</td>\n",
       "      <td>40.440625</td>\n",
       "    </tr>\n",
       "    <tr>\n",
       "      <th>1048572</th>\n",
       "      <td>1048573</td>\n",
       "      <td>CERTIFIED</td>\n",
       "      <td>HEALTHLINE NETWORKS, INC.</td>\n",
       "      <td>SOFTWARE DEVELOPERS, APPLICATIONS</td>\n",
       "      <td>SENIOR UI ENGINEER</td>\n",
       "      <td>Y</td>\n",
       "      <td>94162.0</td>\n",
       "      <td>2015</td>\n",
       "      <td>SAN FRANCISCO, CALIFORNIA</td>\n",
       "      <td>-122.419415</td>\n",
       "      <td>37.774929</td>\n",
       "    </tr>\n",
       "    <tr>\n",
       "      <th>1048573</th>\n",
       "      <td>1048574</td>\n",
       "      <td>CERTIFIED</td>\n",
       "      <td>THE HACKETT GROUP, INC.</td>\n",
       "      <td>COMPUTER AND INFORMATION SYSTEMS MANAGERS</td>\n",
       "      <td>MANAGER</td>\n",
       "      <td>Y</td>\n",
       "      <td>120619.0</td>\n",
       "      <td>2015</td>\n",
       "      <td>CHICAGO, ILLINOIS</td>\n",
       "      <td>-87.629798</td>\n",
       "      <td>41.878114</td>\n",
       "    </tr>\n",
       "    <tr>\n",
       "      <th>1048574</th>\n",
       "      <td>1048575</td>\n",
       "      <td>CERTIFIED</td>\n",
       "      <td>IBM CORPORATION</td>\n",
       "      <td>COMPUTER AND INFORMATION SYSTEMS MANAGERS</td>\n",
       "      <td>CLIENT SERVICES EXECUTIVE</td>\n",
       "      <td>Y</td>\n",
       "      <td>109512.0</td>\n",
       "      <td>2015</td>\n",
       "      <td>CARY, NORTH CAROLINA</td>\n",
       "      <td>-78.781117</td>\n",
       "      <td>35.791540</td>\n",
       "    </tr>\n",
       "  </tbody>\n",
       "</table>\n",
       "<p>1048575 rows × 11 columns</p>\n",
       "</div>"
      ],
      "text/plain": [
       "         Unnamed:0          CASE_STATUS  \\\n",
       "0                1  CERTIFIED-WITHDRAWN   \n",
       "1                2  CERTIFIED-WITHDRAWN   \n",
       "2                3  CERTIFIED-WITHDRAWN   \n",
       "3                4  CERTIFIED-WITHDRAWN   \n",
       "4                5            WITHDRAWN   \n",
       "...            ...                  ...   \n",
       "1048570    1048571            CERTIFIED   \n",
       "1048571    1048572            CERTIFIED   \n",
       "1048572    1048573            CERTIFIED   \n",
       "1048573    1048574            CERTIFIED   \n",
       "1048574    1048575            CERTIFIED   \n",
       "\n",
       "                                             EMPLOYER_NAME  \\\n",
       "0                                   UNIVERSITY OF MICHIGAN   \n",
       "1                                   GOODMAN NETWORKS, INC.   \n",
       "2                                PORTS AMERICA GROUP, INC.   \n",
       "3        GATES CORPORATION, A WHOLLY-OWNED SUBSIDIARY O...   \n",
       "4                                PEABODY INVESTMENTS CORP.   \n",
       "...                                                    ...   \n",
       "1048570                   LARSEN & TOUBRO INFOTECH LIMITED   \n",
       "1048571                         ALLSCRIPTS HEALTHCARE, LLC   \n",
       "1048572                          HEALTHLINE NETWORKS, INC.   \n",
       "1048573                            THE HACKETT GROUP, INC.   \n",
       "1048574                                    IBM CORPORATION   \n",
       "\n",
       "                                          SOC_NAME  \\\n",
       "0                    BIOCHEMISTS AND BIOPHYSICISTS   \n",
       "1                                 CHIEF EXECUTIVES   \n",
       "2                                 CHIEF EXECUTIVES   \n",
       "3                                 CHIEF EXECUTIVES   \n",
       "4                                 CHIEF EXECUTIVES   \n",
       "...                                            ...   \n",
       "1048570                       COMPUTER PROGRAMMERS   \n",
       "1048571                        MANAGERS, ALL OTHER   \n",
       "1048572          SOFTWARE DEVELOPERS, APPLICATIONS   \n",
       "1048573  COMPUTER AND INFORMATION SYSTEMS MANAGERS   \n",
       "1048574  COMPUTER AND INFORMATION SYSTEMS MANAGERS   \n",
       "\n",
       "                              JOB_TITLE FULL_TIME_POSITION  PREVAILING_WAGE  \\\n",
       "0          POSTDOCTORAL RESEARCH FELLOW                  N          36067.0   \n",
       "1               CHIEF OPERATING OFFICER                  Y         242674.0   \n",
       "2                 CHIEF PROCESS OFFICER                  Y         193066.0   \n",
       "3           REGIONAL PRESIDEN, AMERICAS                  Y         220314.0   \n",
       "4          PRESIDENT MONGOLIA AND INDIA                  Y         157518.4   \n",
       "...                                 ...                ...              ...   \n",
       "1048570             COMPUTER PROGRAMMER                  Y          51605.0   \n",
       "1048571  MANAGER, PROFESSIONAL SERVICES                  Y         103792.0   \n",
       "1048572              SENIOR UI ENGINEER                  Y          94162.0   \n",
       "1048573                         MANAGER                  Y         120619.0   \n",
       "1048574       CLIENT SERVICES EXECUTIVE                  Y         109512.0   \n",
       "\n",
       "         YEAR                   WORKSITE         lon        lat  \n",
       "0        2016        ANN ARBOR, MICHIGAN  -83.743038  42.280826  \n",
       "1        2016               PLANO, TEXAS  -96.698886  33.019843  \n",
       "2        2016    JERSEY CITY, NEW JERSEY  -74.077642  40.728158  \n",
       "3        2016           DENVER, COLORADO -104.990251  39.739236  \n",
       "4        2016        ST. LOUIS, MISSOURI  -90.199404  38.627003  \n",
       "...       ...                        ...         ...        ...  \n",
       "1048570  2015             HOUSTON, TEXAS  -95.369803  29.760427  \n",
       "1048571  2015   PITTSBURGH, PENNSYLVANIA  -79.995886  40.440625  \n",
       "1048572  2015  SAN FRANCISCO, CALIFORNIA -122.419415  37.774929  \n",
       "1048573  2015          CHICAGO, ILLINOIS  -87.629798  41.878114  \n",
       "1048574  2015       CARY, NORTH CAROLINA  -78.781117  35.791540  \n",
       "\n",
       "[1048575 rows x 11 columns]"
      ]
     },
     "execution_count": 28,
     "metadata": {},
     "output_type": "execute_result"
    }
   ],
   "source": [
    "data"
   ]
  },
  {
   "cell_type": "code",
   "execution_count": 29,
   "id": "c71c8d10",
   "metadata": {},
   "outputs": [
    {
     "data": {
      "text/plain": [
       "array(['BIOCHEMISTS AND BIOPHYSICISTS', 'CHIEF EXECUTIVES',\n",
       "       'CHIEF EXECUTIVES', ..., 'SOFTWARE DEVELOPERS, APPLICATIONS',\n",
       "       'COMPUTER AND INFORMATION SYSTEMS MANAGERS',\n",
       "       'COMPUTER AND INFORMATION SYSTEMS MANAGERS'], dtype=object)"
      ]
     },
     "execution_count": 29,
     "metadata": {},
     "output_type": "execute_result"
    }
   ],
   "source": [
    "data['SOC_NAME'].values"
   ]
  },
  {
   "cell_type": "code",
   "execution_count": 30,
   "id": "c4690157",
   "metadata": {},
   "outputs": [
    {
     "data": {
      "text/plain": [
       "(1048575, 11)"
      ]
     },
     "execution_count": 30,
     "metadata": {},
     "output_type": "execute_result"
    }
   ],
   "source": [
    "data.shape"
   ]
  },
  {
   "cell_type": "code",
   "execution_count": 31,
   "id": "35ae4750",
   "metadata": {},
   "outputs": [
    {
     "data": {
      "text/html": [
       "<div>\n",
       "<style scoped>\n",
       "    .dataframe tbody tr th:only-of-type {\n",
       "        vertical-align: middle;\n",
       "    }\n",
       "\n",
       "    .dataframe tbody tr th {\n",
       "        vertical-align: top;\n",
       "    }\n",
       "\n",
       "    .dataframe thead th {\n",
       "        text-align: right;\n",
       "    }\n",
       "</style>\n",
       "<table border=\"1\" class=\"dataframe\">\n",
       "  <thead>\n",
       "    <tr style=\"text-align: right;\">\n",
       "      <th></th>\n",
       "      <th>Unnamed:0</th>\n",
       "      <th>CASE_STATUS</th>\n",
       "      <th>EMPLOYER_NAME</th>\n",
       "      <th>SOC_NAME</th>\n",
       "      <th>JOB_TITLE</th>\n",
       "      <th>FULL_TIME_POSITION</th>\n",
       "      <th>PREVAILING_WAGE</th>\n",
       "      <th>YEAR</th>\n",
       "      <th>WORKSITE</th>\n",
       "      <th>lon</th>\n",
       "      <th>lat</th>\n",
       "    </tr>\n",
       "  </thead>\n",
       "  <tbody>\n",
       "    <tr>\n",
       "      <th>0</th>\n",
       "      <td>1</td>\n",
       "      <td>CERTIFIED-WITHDRAWN</td>\n",
       "      <td>UNIVERSITY OF MICHIGAN</td>\n",
       "      <td>BIOCHEMISTS AND BIOPHYSICISTS</td>\n",
       "      <td>POSTDOCTORAL RESEARCH FELLOW</td>\n",
       "      <td>N</td>\n",
       "      <td>36067.0</td>\n",
       "      <td>2016</td>\n",
       "      <td>ANN ARBOR, MICHIGAN</td>\n",
       "      <td>-83.743038</td>\n",
       "      <td>42.280826</td>\n",
       "    </tr>\n",
       "    <tr>\n",
       "      <th>1</th>\n",
       "      <td>2</td>\n",
       "      <td>CERTIFIED-WITHDRAWN</td>\n",
       "      <td>GOODMAN NETWORKS, INC.</td>\n",
       "      <td>CHIEF EXECUTIVES</td>\n",
       "      <td>CHIEF OPERATING OFFICER</td>\n",
       "      <td>Y</td>\n",
       "      <td>242674.0</td>\n",
       "      <td>2016</td>\n",
       "      <td>PLANO, TEXAS</td>\n",
       "      <td>-96.698886</td>\n",
       "      <td>33.019843</td>\n",
       "    </tr>\n",
       "    <tr>\n",
       "      <th>2</th>\n",
       "      <td>3</td>\n",
       "      <td>CERTIFIED-WITHDRAWN</td>\n",
       "      <td>PORTS AMERICA GROUP, INC.</td>\n",
       "      <td>CHIEF EXECUTIVES</td>\n",
       "      <td>CHIEF PROCESS OFFICER</td>\n",
       "      <td>Y</td>\n",
       "      <td>193066.0</td>\n",
       "      <td>2016</td>\n",
       "      <td>JERSEY CITY, NEW JERSEY</td>\n",
       "      <td>-74.077642</td>\n",
       "      <td>40.728158</td>\n",
       "    </tr>\n",
       "    <tr>\n",
       "      <th>3</th>\n",
       "      <td>4</td>\n",
       "      <td>CERTIFIED-WITHDRAWN</td>\n",
       "      <td>GATES CORPORATION, A WHOLLY-OWNED SUBSIDIARY O...</td>\n",
       "      <td>CHIEF EXECUTIVES</td>\n",
       "      <td>REGIONAL PRESIDEN, AMERICAS</td>\n",
       "      <td>Y</td>\n",
       "      <td>220314.0</td>\n",
       "      <td>2016</td>\n",
       "      <td>DENVER, COLORADO</td>\n",
       "      <td>-104.990251</td>\n",
       "      <td>39.739236</td>\n",
       "    </tr>\n",
       "    <tr>\n",
       "      <th>4</th>\n",
       "      <td>5</td>\n",
       "      <td>WITHDRAWN</td>\n",
       "      <td>PEABODY INVESTMENTS CORP.</td>\n",
       "      <td>CHIEF EXECUTIVES</td>\n",
       "      <td>PRESIDENT MONGOLIA AND INDIA</td>\n",
       "      <td>Y</td>\n",
       "      <td>157518.4</td>\n",
       "      <td>2016</td>\n",
       "      <td>ST. LOUIS, MISSOURI</td>\n",
       "      <td>-90.199404</td>\n",
       "      <td>38.627003</td>\n",
       "    </tr>\n",
       "  </tbody>\n",
       "</table>\n",
       "</div>"
      ],
      "text/plain": [
       "   Unnamed:0          CASE_STATUS  \\\n",
       "0          1  CERTIFIED-WITHDRAWN   \n",
       "1          2  CERTIFIED-WITHDRAWN   \n",
       "2          3  CERTIFIED-WITHDRAWN   \n",
       "3          4  CERTIFIED-WITHDRAWN   \n",
       "4          5            WITHDRAWN   \n",
       "\n",
       "                                       EMPLOYER_NAME  \\\n",
       "0                             UNIVERSITY OF MICHIGAN   \n",
       "1                             GOODMAN NETWORKS, INC.   \n",
       "2                          PORTS AMERICA GROUP, INC.   \n",
       "3  GATES CORPORATION, A WHOLLY-OWNED SUBSIDIARY O...   \n",
       "4                          PEABODY INVESTMENTS CORP.   \n",
       "\n",
       "                        SOC_NAME                     JOB_TITLE  \\\n",
       "0  BIOCHEMISTS AND BIOPHYSICISTS  POSTDOCTORAL RESEARCH FELLOW   \n",
       "1               CHIEF EXECUTIVES       CHIEF OPERATING OFFICER   \n",
       "2               CHIEF EXECUTIVES         CHIEF PROCESS OFFICER   \n",
       "3               CHIEF EXECUTIVES   REGIONAL PRESIDEN, AMERICAS   \n",
       "4               CHIEF EXECUTIVES  PRESIDENT MONGOLIA AND INDIA   \n",
       "\n",
       "  FULL_TIME_POSITION  PREVAILING_WAGE  YEAR                 WORKSITE  \\\n",
       "0                  N          36067.0  2016      ANN ARBOR, MICHIGAN   \n",
       "1                  Y         242674.0  2016             PLANO, TEXAS   \n",
       "2                  Y         193066.0  2016  JERSEY CITY, NEW JERSEY   \n",
       "3                  Y         220314.0  2016         DENVER, COLORADO   \n",
       "4                  Y         157518.4  2016      ST. LOUIS, MISSOURI   \n",
       "\n",
       "          lon        lat  \n",
       "0  -83.743038  42.280826  \n",
       "1  -96.698886  33.019843  \n",
       "2  -74.077642  40.728158  \n",
       "3 -104.990251  39.739236  \n",
       "4  -90.199404  38.627003  "
      ]
     },
     "execution_count": 31,
     "metadata": {},
     "output_type": "execute_result"
    }
   ],
   "source": [
    "data.head()"
   ]
  },
  {
   "cell_type": "code",
   "execution_count": 32,
   "id": "a653cf6b",
   "metadata": {},
   "outputs": [
    {
     "data": {
      "text/html": [
       "<div>\n",
       "<style scoped>\n",
       "    .dataframe tbody tr th:only-of-type {\n",
       "        vertical-align: middle;\n",
       "    }\n",
       "\n",
       "    .dataframe tbody tr th {\n",
       "        vertical-align: top;\n",
       "    }\n",
       "\n",
       "    .dataframe thead th {\n",
       "        text-align: right;\n",
       "    }\n",
       "</style>\n",
       "<table border=\"1\" class=\"dataframe\">\n",
       "  <thead>\n",
       "    <tr style=\"text-align: right;\">\n",
       "      <th></th>\n",
       "      <th>Unnamed:0</th>\n",
       "      <th>CASE_STATUS</th>\n",
       "      <th>EMPLOYER_NAME</th>\n",
       "      <th>SOC_NAME</th>\n",
       "      <th>JOB_TITLE</th>\n",
       "      <th>FULL_TIME_POSITION</th>\n",
       "      <th>PREVAILING_WAGE</th>\n",
       "      <th>YEAR</th>\n",
       "      <th>WORKSITE</th>\n",
       "      <th>lon</th>\n",
       "      <th>lat</th>\n",
       "    </tr>\n",
       "  </thead>\n",
       "  <tbody>\n",
       "    <tr>\n",
       "      <th>1048570</th>\n",
       "      <td>1048571</td>\n",
       "      <td>CERTIFIED</td>\n",
       "      <td>LARSEN &amp; TOUBRO INFOTECH LIMITED</td>\n",
       "      <td>COMPUTER PROGRAMMERS</td>\n",
       "      <td>COMPUTER PROGRAMMER</td>\n",
       "      <td>Y</td>\n",
       "      <td>51605.0</td>\n",
       "      <td>2015</td>\n",
       "      <td>HOUSTON, TEXAS</td>\n",
       "      <td>-95.369803</td>\n",
       "      <td>29.760427</td>\n",
       "    </tr>\n",
       "    <tr>\n",
       "      <th>1048571</th>\n",
       "      <td>1048572</td>\n",
       "      <td>CERTIFIED</td>\n",
       "      <td>ALLSCRIPTS HEALTHCARE, LLC</td>\n",
       "      <td>MANAGERS, ALL OTHER</td>\n",
       "      <td>MANAGER, PROFESSIONAL SERVICES</td>\n",
       "      <td>Y</td>\n",
       "      <td>103792.0</td>\n",
       "      <td>2015</td>\n",
       "      <td>PITTSBURGH, PENNSYLVANIA</td>\n",
       "      <td>-79.995886</td>\n",
       "      <td>40.440625</td>\n",
       "    </tr>\n",
       "    <tr>\n",
       "      <th>1048572</th>\n",
       "      <td>1048573</td>\n",
       "      <td>CERTIFIED</td>\n",
       "      <td>HEALTHLINE NETWORKS, INC.</td>\n",
       "      <td>SOFTWARE DEVELOPERS, APPLICATIONS</td>\n",
       "      <td>SENIOR UI ENGINEER</td>\n",
       "      <td>Y</td>\n",
       "      <td>94162.0</td>\n",
       "      <td>2015</td>\n",
       "      <td>SAN FRANCISCO, CALIFORNIA</td>\n",
       "      <td>-122.419415</td>\n",
       "      <td>37.774929</td>\n",
       "    </tr>\n",
       "    <tr>\n",
       "      <th>1048573</th>\n",
       "      <td>1048574</td>\n",
       "      <td>CERTIFIED</td>\n",
       "      <td>THE HACKETT GROUP, INC.</td>\n",
       "      <td>COMPUTER AND INFORMATION SYSTEMS MANAGERS</td>\n",
       "      <td>MANAGER</td>\n",
       "      <td>Y</td>\n",
       "      <td>120619.0</td>\n",
       "      <td>2015</td>\n",
       "      <td>CHICAGO, ILLINOIS</td>\n",
       "      <td>-87.629798</td>\n",
       "      <td>41.878114</td>\n",
       "    </tr>\n",
       "    <tr>\n",
       "      <th>1048574</th>\n",
       "      <td>1048575</td>\n",
       "      <td>CERTIFIED</td>\n",
       "      <td>IBM CORPORATION</td>\n",
       "      <td>COMPUTER AND INFORMATION SYSTEMS MANAGERS</td>\n",
       "      <td>CLIENT SERVICES EXECUTIVE</td>\n",
       "      <td>Y</td>\n",
       "      <td>109512.0</td>\n",
       "      <td>2015</td>\n",
       "      <td>CARY, NORTH CAROLINA</td>\n",
       "      <td>-78.781117</td>\n",
       "      <td>35.791540</td>\n",
       "    </tr>\n",
       "  </tbody>\n",
       "</table>\n",
       "</div>"
      ],
      "text/plain": [
       "         Unnamed:0 CASE_STATUS                     EMPLOYER_NAME  \\\n",
       "1048570    1048571   CERTIFIED  LARSEN & TOUBRO INFOTECH LIMITED   \n",
       "1048571    1048572   CERTIFIED        ALLSCRIPTS HEALTHCARE, LLC   \n",
       "1048572    1048573   CERTIFIED         HEALTHLINE NETWORKS, INC.   \n",
       "1048573    1048574   CERTIFIED           THE HACKETT GROUP, INC.   \n",
       "1048574    1048575   CERTIFIED                   IBM CORPORATION   \n",
       "\n",
       "                                          SOC_NAME  \\\n",
       "1048570                       COMPUTER PROGRAMMERS   \n",
       "1048571                        MANAGERS, ALL OTHER   \n",
       "1048572          SOFTWARE DEVELOPERS, APPLICATIONS   \n",
       "1048573  COMPUTER AND INFORMATION SYSTEMS MANAGERS   \n",
       "1048574  COMPUTER AND INFORMATION SYSTEMS MANAGERS   \n",
       "\n",
       "                              JOB_TITLE FULL_TIME_POSITION  PREVAILING_WAGE  \\\n",
       "1048570             COMPUTER PROGRAMMER                  Y          51605.0   \n",
       "1048571  MANAGER, PROFESSIONAL SERVICES                  Y         103792.0   \n",
       "1048572              SENIOR UI ENGINEER                  Y          94162.0   \n",
       "1048573                         MANAGER                  Y         120619.0   \n",
       "1048574       CLIENT SERVICES EXECUTIVE                  Y         109512.0   \n",
       "\n",
       "         YEAR                   WORKSITE         lon        lat  \n",
       "1048570  2015             HOUSTON, TEXAS  -95.369803  29.760427  \n",
       "1048571  2015   PITTSBURGH, PENNSYLVANIA  -79.995886  40.440625  \n",
       "1048572  2015  SAN FRANCISCO, CALIFORNIA -122.419415  37.774929  \n",
       "1048573  2015          CHICAGO, ILLINOIS  -87.629798  41.878114  \n",
       "1048574  2015       CARY, NORTH CAROLINA  -78.781117  35.791540  "
      ]
     },
     "execution_count": 32,
     "metadata": {},
     "output_type": "execute_result"
    }
   ],
   "source": [
    "data.tail()"
   ]
  },
  {
   "cell_type": "code",
   "execution_count": 33,
   "id": "2601adea",
   "metadata": {},
   "outputs": [
    {
     "name": "stdout",
     "output_type": "stream",
     "text": [
      "<class 'pandas.core.frame.DataFrame'>\n",
      "RangeIndex: 1048575 entries, 0 to 1048574\n",
      "Data columns (total 11 columns):\n",
      " #   Column              Non-Null Count    Dtype  \n",
      "---  ------              --------------    -----  \n",
      " 0   Unnamed:0           1048575 non-null  int64  \n",
      " 1   CASE_STATUS         1048575 non-null  object \n",
      " 2   EMPLOYER_NAME       1048556 non-null  object \n",
      " 3   SOC_NAME            1048564 non-null  object \n",
      " 4   JOB_TITLE           1048567 non-null  object \n",
      " 5   FULL_TIME_POSITION  1048574 non-null  object \n",
      " 6   PREVAILING_WAGE     1048571 non-null  float64\n",
      " 7   YEAR                1048575 non-null  int64  \n",
      " 8   WORKSITE            1048575 non-null  object \n",
      " 9   lon                 1019007 non-null  float64\n",
      " 10  lat                 1019007 non-null  float64\n",
      "dtypes: float64(3), int64(2), object(6)\n",
      "memory usage: 88.0+ MB\n"
     ]
    }
   ],
   "source": [
    "data.info()"
   ]
  },
  {
   "cell_type": "code",
   "execution_count": 34,
   "id": "c9c0adab",
   "metadata": {},
   "outputs": [
    {
     "data": {
      "text/html": [
       "<div>\n",
       "<style scoped>\n",
       "    .dataframe tbody tr th:only-of-type {\n",
       "        vertical-align: middle;\n",
       "    }\n",
       "\n",
       "    .dataframe tbody tr th {\n",
       "        vertical-align: top;\n",
       "    }\n",
       "\n",
       "    .dataframe thead th {\n",
       "        text-align: right;\n",
       "    }\n",
       "</style>\n",
       "<table border=\"1\" class=\"dataframe\">\n",
       "  <thead>\n",
       "    <tr style=\"text-align: right;\">\n",
       "      <th></th>\n",
       "      <th>Unnamed:0</th>\n",
       "      <th>PREVAILING_WAGE</th>\n",
       "      <th>YEAR</th>\n",
       "      <th>lon</th>\n",
       "      <th>lat</th>\n",
       "    </tr>\n",
       "  </thead>\n",
       "  <tbody>\n",
       "    <tr>\n",
       "      <th>count</th>\n",
       "      <td>1.048575e+06</td>\n",
       "      <td>1.048571e+06</td>\n",
       "      <td>1.048575e+06</td>\n",
       "      <td>1.019007e+06</td>\n",
       "      <td>1.019007e+06</td>\n",
       "    </tr>\n",
       "    <tr>\n",
       "      <th>mean</th>\n",
       "      <td>5.242880e+05</td>\n",
       "      <td>8.942724e+04</td>\n",
       "      <td>2.015618e+03</td>\n",
       "      <td>-9.224186e+01</td>\n",
       "      <td>3.816965e+01</td>\n",
       "    </tr>\n",
       "    <tr>\n",
       "      <th>std</th>\n",
       "      <td>3.026977e+05</td>\n",
       "      <td>1.643214e+06</td>\n",
       "      <td>4.859268e-01</td>\n",
       "      <td>1.936639e+01</td>\n",
       "      <td>4.606127e+00</td>\n",
       "    </tr>\n",
       "    <tr>\n",
       "      <th>min</th>\n",
       "      <td>1.000000e+00</td>\n",
       "      <td>0.000000e+00</td>\n",
       "      <td>2.015000e+03</td>\n",
       "      <td>-1.578583e+02</td>\n",
       "      <td>1.343719e+01</td>\n",
       "    </tr>\n",
       "    <tr>\n",
       "      <th>25%</th>\n",
       "      <td>2.621445e+05</td>\n",
       "      <td>5.636800e+04</td>\n",
       "      <td>2.015000e+03</td>\n",
       "      <td>-1.118910e+02</td>\n",
       "      <td>3.415175e+01</td>\n",
       "    </tr>\n",
       "    <tr>\n",
       "      <th>50%</th>\n",
       "      <td>5.242880e+05</td>\n",
       "      <td>6.651800e+04</td>\n",
       "      <td>2.016000e+03</td>\n",
       "      <td>-8.648955e+01</td>\n",
       "      <td>3.908400e+01</td>\n",
       "    </tr>\n",
       "    <tr>\n",
       "      <th>75%</th>\n",
       "      <td>7.864315e+05</td>\n",
       "      <td>8.247200e+04</td>\n",
       "      <td>2.016000e+03</td>\n",
       "      <td>-7.559826e+01</td>\n",
       "      <td>4.088374e+01</td>\n",
       "    </tr>\n",
       "    <tr>\n",
       "      <th>max</th>\n",
       "      <td>1.048575e+06</td>\n",
       "      <td>3.291392e+08</td>\n",
       "      <td>2.016000e+03</td>\n",
       "      <td>1.457298e+02</td>\n",
       "      <td>6.483778e+01</td>\n",
       "    </tr>\n",
       "  </tbody>\n",
       "</table>\n",
       "</div>"
      ],
      "text/plain": [
       "          Unnamed:0  PREVAILING_WAGE          YEAR           lon           lat\n",
       "count  1.048575e+06     1.048571e+06  1.048575e+06  1.019007e+06  1.019007e+06\n",
       "mean   5.242880e+05     8.942724e+04  2.015618e+03 -9.224186e+01  3.816965e+01\n",
       "std    3.026977e+05     1.643214e+06  4.859268e-01  1.936639e+01  4.606127e+00\n",
       "min    1.000000e+00     0.000000e+00  2.015000e+03 -1.578583e+02  1.343719e+01\n",
       "25%    2.621445e+05     5.636800e+04  2.015000e+03 -1.118910e+02  3.415175e+01\n",
       "50%    5.242880e+05     6.651800e+04  2.016000e+03 -8.648955e+01  3.908400e+01\n",
       "75%    7.864315e+05     8.247200e+04  2.016000e+03 -7.559826e+01  4.088374e+01\n",
       "max    1.048575e+06     3.291392e+08  2.016000e+03  1.457298e+02  6.483778e+01"
      ]
     },
     "execution_count": 34,
     "metadata": {},
     "output_type": "execute_result"
    }
   ],
   "source": [
    "data.describe()"
   ]
  },
  {
   "cell_type": "code",
   "execution_count": 35,
   "id": "c8ad7ecf",
   "metadata": {},
   "outputs": [
    {
     "name": "stdout",
     "output_type": "stream",
     "text": [
      "[2016 2015]\n"
     ]
    }
   ],
   "source": [
    "print(data['YEAR'].unique())"
   ]
  },
  {
   "cell_type": "code",
   "execution_count": 36,
   "id": "dc2b4fe0",
   "metadata": {},
   "outputs": [
    {
     "name": "stdout",
     "output_type": "stream",
     "text": [
      "['BIOCHEMISTS AND BIOPHYSICISTS' 'CHIEF EXECUTIVES' 'FINANCIAL MANAGERS'\n",
      " ... 'NETWORK/ COMPUTER SYSTEMS ADMINISTRATOR'\n",
      " 'SOFTWARE DEVELOPER- APPLICATIONS' 'FOOD PREPARATION WORKERS']\n"
     ]
    }
   ],
   "source": [
    "print(data['SOC_NAME'].unique())"
   ]
  },
  {
   "cell_type": "markdown",
   "id": "2d531705",
   "metadata": {},
   "source": [
    "# Data Visualization"
   ]
  },
  {
   "cell_type": "code",
   "execution_count": 37,
   "id": "9ad74020",
   "metadata": {},
   "outputs": [
    {
     "data": {
      "image/png": "[encoded data removed]",
      "text/plain": [
       "<Figure size 1200x1000 with 1 Axes>"
      ]
     },
     "metadata": {},
     "output_type": "display_data"
    }
   ],
   "source": [
    "# Number of H1B Visa applications year wise from 2011 to 2016\n",
    "fig = plt.figure(figsize=(12,10), facecolor='white')\n",
    "ax1 = fig.add_axes([0,0,.4,.4])\n",
    "\n",
    "year = data['YEAR'].value_counts()   \n",
    "ax1.bar(x=year.index, height=year[:])\n",
    "ax1.set_title('Number of H-1B Applications Year Wise')\n",
    "ax1.set_xlabel('Year')\n",
    "ax1.set_ylabel('Number of Applications')\n",
    "plt.show()"
   ]
  },
  {
   "cell_type": "code",
   "execution_count": 38,
   "id": "d412e04d",
   "metadata": {},
   "outputs": [
    {
     "data": {
      "image/png": "[encoded data removed]",
      "text/plain": [
       "<Figure size 1000x600 with 1 Axes>"
      ]
     },
     "metadata": {},
     "output_type": "display_data"
    }
   ],
   "source": [
    "# Ploting the case status in a piechart\n",
    "status = data['CASE_STATUS'].value_counts()\n",
    "fig = plt.figure(figsize = (10,6))\n",
    "plt.pie(labels=status.index[:-3], x=status[:-3],autopct='%.f%%', shadow=True, textprops={'fontsize':16})\n",
    "plt.show()"
   ]
  },
  {
   "cell_type": "code",
   "execution_count": 39,
   "id": "8ba85d96",
   "metadata": {},
   "outputs": [
    {
     "name": "stderr",
     "output_type": "stream",
     "text": [
      "C:\\Users\\balu2\\AppData\\Local\\Temp\\ipykernel_20920\\4213063275.py:7: UserWarning: FixedFormatter should only be used together with FixedLocator\n",
      "  ax2.set_xticklabels(labels=job_title.index ,rotation=90)\n"
     ]
    },
    {
     "data": {
      "image/png": "[encoded data removed]",
      "text/plain": [
       "<Figure size 1200x1000 with 1 Axes>"
      ]
     },
     "metadata": {},
     "output_type": "display_data"
    }
   ],
   "source": [
    "#Top 10 Job titles\n",
    "fig = plt.figure(figsize = (12,10))\n",
    "ax2 = fig.add_axes([0,0,.4,.4])\n",
    "job_title = data['JOB_TITLE'].value_counts()[:10]\n",
    "\n",
    "ax2.bar(x=job_title.index,height=job_title[:])\n",
    "ax2.set_xticklabels(labels=job_title.index ,rotation=90)\n",
    "ax2.set_title('Top 10 Desirable Job Titles')\n",
    "ax2.set_xlabel('Job Titles')\n",
    "ax2.set_ylabel('Number of Applicants')\n",
    "plt.show()"
   ]
  },
  {
   "cell_type": "code",
   "execution_count": 40,
   "id": "f47bf45e",
   "metadata": {},
   "outputs": [
    {
     "data": {
      "image/png": "[encoded data removed]",
      "text/plain": [
       "<Figure size 1500x800 with 1 Axes>"
      ]
     },
     "metadata": {},
     "output_type": "display_data"
    }
   ],
   "source": [
    "# Ploting companies who sent highgest H-1B visa applications\n",
    "company = data['EMPLOYER_NAME'].value_counts()[:20]\n",
    "plt.figure(figsize=(15,8))\n",
    "plt.bar(x=company.index, height=company[:])\n",
    "plt.title('Top 20 Companies who sent highest H-1B visa applications')\n",
    "plt.xlabel('Company')\n",
    "plt.ylabel('Number of Applicants')\n",
    "plt.xticks(rotation=90)\n",
    "plt.show()"
   ]
  },
  {
   "cell_type": "code",
   "execution_count": 41,
   "id": "e484d7c9",
   "metadata": {},
   "outputs": [
    {
     "data": {
      "image/png": "[encoded data removed]",
      "text/plain": [
       "<Figure size 1200x700 with 1 Axes>"
      ]
     },
     "metadata": {},
     "output_type": "display_data"
    }
   ],
   "source": [
    "plt.figure(figsize=(12,7))\n",
    "sns.set(style = 'whitegrid')\n",
    "g = sns.countplot(x = 'FULL_TIME_POSITION',data = data)\n",
    "plt.title('No of applications made for the full time position')\n",
    "plt.ylabel('No of petitions made')\n",
    "plt.show()"
   ]
  },
  {
   "cell_type": "code",
   "execution_count": 42,
   "id": "2faebbcc",
   "metadata": {},
   "outputs": [],
   "source": [
    "top_emp = list(data['EMPLOYER_NAME'][data['YEAR'] >= 2015].groupby(data['EMPLOYER_NAME']).count().sort_values(ascending=False).head(10).index)\n",
    "\n",
    "byempyear = data[['EMPLOYER_NAME', 'YEAR', 'PREVAILING_WAGE']][data['EMPLOYER_NAME'].isin(top_emp)]\n",
    "\n",
    "byempyear = byempyear.groupby([data['EMPLOYER_NAME'], data['YEAR']])"
   ]
  },
  {
   "cell_type": "code",
   "execution_count": 43,
   "id": "46280864",
   "metadata": {},
   "outputs": [
    {
     "data": {
      "image/png": "[encoded data removed]",
      "text/plain": [
       "<Figure size 1200x700 with 1 Axes>"
      ]
     },
     "metadata": {},
     "output_type": "display_data"
    }
   ],
   "source": [
    "plt.figure(figsize=(12,7))\n",
    "\n",
    "markers=['o','v','^','<','>','d','s','p','*','h','x','D','o','v','^','<','>','d','s','p','*','h','x','D']\n",
    "\n",
    "for company in top_emp:\n",
    "    tmp = byempyear.count().loc[company]\n",
    "    plt.plot(tmp.index.values, tmp[\"PREVAILING_WAGE\"].values, label=company, linewidth=2,marker=markers[top_emp.index(company)])\n",
    "plt.xlabel(\"Year\")\n",
    "plt.ylabel(\"Number of Applications\")\n",
    "plt.legend()\n",
    "plt.title('Number of Applications of Top 10 Applicants')\n",
    "plt.show()"
   ]
  },
  {
   "cell_type": "code",
   "execution_count": 44,
   "id": "a5ebe157",
   "metadata": {},
   "outputs": [
    {
     "data": {
      "image/png": "[encoded data removed]",
      "text/plain": [
       "<Figure size 1200x700 with 1 Axes>"
      ]
     },
     "metadata": {},
     "output_type": "display_data"
    }
   ],
   "source": [
    "#Average salary of each company\n",
    "plt.figure(figsize=(12,7))\n",
    "\n",
    "for company in top_emp:\n",
    "    tmp = byempyear.mean().loc[company]\n",
    "    plt.plot(tmp.index.values, tmp[\"PREVAILING_WAGE\"].values, label=company, linewidth=2,marker=markers[top_emp.index(company)])\n",
    "plt.xlabel(\"Year\")\n",
    "plt.ylabel(\"Average Salary offered (USD)\")\n",
    "plt.legend()\n",
    "plt.title('Average Salary of Top 10 Applicants')\n",
    "plt.show()"
   ]
  },
  {
   "cell_type": "code",
   "execution_count": 45,
   "id": "5c6b6e35",
   "metadata": {},
   "outputs": [
    {
     "data": {
      "text/plain": [
       "CERTIFIED              914251\n",
       "CERTIFIED-WITHDRAWN     83160\n",
       "WITHDRAWN               35494\n",
       "DENIED                  15670\n",
       "Name: CASE_STATUS, dtype: int64"
      ]
     },
     "execution_count": 45,
     "metadata": {},
     "output_type": "execute_result"
    }
   ],
   "source": [
    "data.CASE_STATUS.value_counts()"
   ]
  },
  {
   "cell_type": "code",
   "execution_count": 46,
   "id": "81ed064e",
   "metadata": {},
   "outputs": [
    {
     "data": {
      "image/png": "[encoded data removed]",
      "text/plain": [
       "<Figure size 1000x700 with 1 Axes>"
      ]
     },
     "metadata": {},
     "output_type": "display_data"
    }
   ],
   "source": [
    "plt.figure(figsize=(10,7))\n",
    "data.CASE_STATUS.value_counts().plot(kind='barh')\n",
    "data.sort_values('CASE_STATUS')\n",
    "plt.title(\"NUMBER OF APPLICATIONS\")\n",
    "plt.show()"
   ]
  },
  {
   "cell_type": "markdown",
   "id": "af9ccdf4",
   "metadata": {},
   "source": [
    "# Data Pre-processing"
   ]
  },
  {
   "cell_type": "code",
   "execution_count": 47,
   "id": "8a7ab9e9",
   "metadata": {
    "scrolled": true
   },
   "outputs": [
    {
     "data": {
      "text/plain": [
       "Unnamed:0             False\n",
       "CASE_STATUS           False\n",
       "EMPLOYER_NAME          True\n",
       "SOC_NAME               True\n",
       "JOB_TITLE              True\n",
       "FULL_TIME_POSITION     True\n",
       "PREVAILING_WAGE        True\n",
       "YEAR                  False\n",
       "WORKSITE              False\n",
       "lon                    True\n",
       "lat                    True\n",
       "dtype: bool"
      ]
     },
     "execution_count": 47,
     "metadata": {},
     "output_type": "execute_result"
    }
   ],
   "source": [
    "data.isnull().any()"
   ]
  },
  {
   "cell_type": "code",
   "execution_count": 48,
   "id": "37ddeb3f",
   "metadata": {},
   "outputs": [
    {
     "data": {
      "text/plain": [
       "Unnamed:0                 0\n",
       "CASE_STATUS               0\n",
       "EMPLOYER_NAME            19\n",
       "SOC_NAME                 11\n",
       "JOB_TITLE                 8\n",
       "FULL_TIME_POSITION        1\n",
       "PREVAILING_WAGE           4\n",
       "YEAR                      0\n",
       "WORKSITE                  0\n",
       "lon                   29568\n",
       "lat                   29568\n",
       "dtype: int64"
      ]
     },
     "execution_count": 48,
     "metadata": {},
     "output_type": "execute_result"
    }
   ],
   "source": [
    "data.isnull().sum()"
   ]
  },
  {
   "cell_type": "code",
   "execution_count": 49,
   "id": "2363ef44",
   "metadata": {},
   "outputs": [
    {
     "data": {
      "text/html": [
       "<div>\n",
       "<style scoped>\n",
       "    .dataframe tbody tr th:only-of-type {\n",
       "        vertical-align: middle;\n",
       "    }\n",
       "\n",
       "    .dataframe tbody tr th {\n",
       "        vertical-align: top;\n",
       "    }\n",
       "\n",
       "    .dataframe thead th {\n",
       "        text-align: right;\n",
       "    }\n",
       "</style>\n",
       "<table border=\"1\" class=\"dataframe\">\n",
       "  <thead>\n",
       "    <tr style=\"text-align: right;\">\n",
       "      <th></th>\n",
       "      <th>Unnamed:0</th>\n",
       "      <th>CASE_STATUS</th>\n",
       "      <th>EMPLOYER_NAME</th>\n",
       "      <th>SOC_NAME</th>\n",
       "      <th>JOB_TITLE</th>\n",
       "      <th>FULL_TIME_POSITION</th>\n",
       "      <th>PREVAILING_WAGE</th>\n",
       "      <th>YEAR</th>\n",
       "      <th>WORKSITE</th>\n",
       "      <th>lon</th>\n",
       "      <th>lat</th>\n",
       "    </tr>\n",
       "  </thead>\n",
       "  <tbody>\n",
       "    <tr>\n",
       "      <th>0</th>\n",
       "      <td>1</td>\n",
       "      <td>CERTIFIED-WITHDRAWN</td>\n",
       "      <td>UNIVERSITY OF MICHIGAN</td>\n",
       "      <td>BIOCHEMISTS AND BIOPHYSICISTS</td>\n",
       "      <td>POSTDOCTORAL RESEARCH FELLOW</td>\n",
       "      <td>N</td>\n",
       "      <td>36067.0</td>\n",
       "      <td>2016</td>\n",
       "      <td>ANN ARBOR, MICHIGAN</td>\n",
       "      <td>-83.743038</td>\n",
       "      <td>42.280826</td>\n",
       "    </tr>\n",
       "    <tr>\n",
       "      <th>1</th>\n",
       "      <td>2</td>\n",
       "      <td>CERTIFIED-WITHDRAWN</td>\n",
       "      <td>GOODMAN NETWORKS, INC.</td>\n",
       "      <td>CHIEF EXECUTIVES</td>\n",
       "      <td>CHIEF OPERATING OFFICER</td>\n",
       "      <td>Y</td>\n",
       "      <td>242674.0</td>\n",
       "      <td>2016</td>\n",
       "      <td>PLANO, TEXAS</td>\n",
       "      <td>-96.698886</td>\n",
       "      <td>33.019843</td>\n",
       "    </tr>\n",
       "    <tr>\n",
       "      <th>2</th>\n",
       "      <td>3</td>\n",
       "      <td>CERTIFIED-WITHDRAWN</td>\n",
       "      <td>PORTS AMERICA GROUP, INC.</td>\n",
       "      <td>CHIEF EXECUTIVES</td>\n",
       "      <td>CHIEF PROCESS OFFICER</td>\n",
       "      <td>Y</td>\n",
       "      <td>193066.0</td>\n",
       "      <td>2016</td>\n",
       "      <td>JERSEY CITY, NEW JERSEY</td>\n",
       "      <td>-74.077642</td>\n",
       "      <td>40.728158</td>\n",
       "    </tr>\n",
       "    <tr>\n",
       "      <th>3</th>\n",
       "      <td>4</td>\n",
       "      <td>CERTIFIED-WITHDRAWN</td>\n",
       "      <td>GATES CORPORATION, A WHOLLY-OWNED SUBSIDIARY O...</td>\n",
       "      <td>CHIEF EXECUTIVES</td>\n",
       "      <td>REGIONAL PRESIDEN, AMERICAS</td>\n",
       "      <td>Y</td>\n",
       "      <td>220314.0</td>\n",
       "      <td>2016</td>\n",
       "      <td>DENVER, COLORADO</td>\n",
       "      <td>-104.990251</td>\n",
       "      <td>39.739236</td>\n",
       "    </tr>\n",
       "    <tr>\n",
       "      <th>4</th>\n",
       "      <td>5</td>\n",
       "      <td>WITHDRAWN</td>\n",
       "      <td>PEABODY INVESTMENTS CORP.</td>\n",
       "      <td>CHIEF EXECUTIVES</td>\n",
       "      <td>PRESIDENT MONGOLIA AND INDIA</td>\n",
       "      <td>Y</td>\n",
       "      <td>157518.4</td>\n",
       "      <td>2016</td>\n",
       "      <td>ST. LOUIS, MISSOURI</td>\n",
       "      <td>-90.199404</td>\n",
       "      <td>38.627003</td>\n",
       "    </tr>\n",
       "    <tr>\n",
       "      <th>5</th>\n",
       "      <td>6</td>\n",
       "      <td>CERTIFIED-WITHDRAWN</td>\n",
       "      <td>BURGER KING CORPORATION</td>\n",
       "      <td>CHIEF EXECUTIVES</td>\n",
       "      <td>EXECUTIVE V P, GLOBAL DEVELOPMENT AND PRESIDEN...</td>\n",
       "      <td>Y</td>\n",
       "      <td>225000.0</td>\n",
       "      <td>2016</td>\n",
       "      <td>MIAMI, FLORIDA</td>\n",
       "      <td>-80.191790</td>\n",
       "      <td>25.761680</td>\n",
       "    </tr>\n",
       "    <tr>\n",
       "      <th>6</th>\n",
       "      <td>7</td>\n",
       "      <td>CERTIFIED-WITHDRAWN</td>\n",
       "      <td>BT AND MK ENERGY AND COMMODITIES</td>\n",
       "      <td>CHIEF EXECUTIVES</td>\n",
       "      <td>CHIEF OPERATING OFFICER</td>\n",
       "      <td>Y</td>\n",
       "      <td>91021.0</td>\n",
       "      <td>2016</td>\n",
       "      <td>HOUSTON, TEXAS</td>\n",
       "      <td>-95.369803</td>\n",
       "      <td>29.760427</td>\n",
       "    </tr>\n",
       "    <tr>\n",
       "      <th>7</th>\n",
       "      <td>8</td>\n",
       "      <td>CERTIFIED-WITHDRAWN</td>\n",
       "      <td>GLOBO MOBILE TECHNOLOGIES, INC.</td>\n",
       "      <td>CHIEF EXECUTIVES</td>\n",
       "      <td>CHIEF OPERATIONS OFFICER</td>\n",
       "      <td>Y</td>\n",
       "      <td>150000.0</td>\n",
       "      <td>2016</td>\n",
       "      <td>SAN JOSE, CALIFORNIA</td>\n",
       "      <td>-121.886329</td>\n",
       "      <td>37.338208</td>\n",
       "    </tr>\n",
       "    <tr>\n",
       "      <th>8</th>\n",
       "      <td>9</td>\n",
       "      <td>CERTIFIED-WITHDRAWN</td>\n",
       "      <td>ESI COMPANIES INC.</td>\n",
       "      <td>CHIEF EXECUTIVES</td>\n",
       "      <td>PRESIDENT</td>\n",
       "      <td>Y</td>\n",
       "      <td>127546.0</td>\n",
       "      <td>2016</td>\n",
       "      <td>MEMPHIS, TEXAS</td>\n",
       "      <td>NaN</td>\n",
       "      <td>NaN</td>\n",
       "    </tr>\n",
       "    <tr>\n",
       "      <th>9</th>\n",
       "      <td>10</td>\n",
       "      <td>WITHDRAWN</td>\n",
       "      <td>LESSARD INTERNATIONAL LLC</td>\n",
       "      <td>CHIEF EXECUTIVES</td>\n",
       "      <td>PRESIDENT</td>\n",
       "      <td>Y</td>\n",
       "      <td>154648.0</td>\n",
       "      <td>2016</td>\n",
       "      <td>VIENNA, VIRGINIA</td>\n",
       "      <td>-77.265260</td>\n",
       "      <td>38.901223</td>\n",
       "    </tr>\n",
       "  </tbody>\n",
       "</table>\n",
       "</div>"
      ],
      "text/plain": [
       "   Unnamed:0          CASE_STATUS  \\\n",
       "0          1  CERTIFIED-WITHDRAWN   \n",
       "1          2  CERTIFIED-WITHDRAWN   \n",
       "2          3  CERTIFIED-WITHDRAWN   \n",
       "3          4  CERTIFIED-WITHDRAWN   \n",
       "4          5            WITHDRAWN   \n",
       "5          6  CERTIFIED-WITHDRAWN   \n",
       "6          7  CERTIFIED-WITHDRAWN   \n",
       "7          8  CERTIFIED-WITHDRAWN   \n",
       "8          9  CERTIFIED-WITHDRAWN   \n",
       "9         10            WITHDRAWN   \n",
       "\n",
       "                                       EMPLOYER_NAME  \\\n",
       "0                             UNIVERSITY OF MICHIGAN   \n",
       "1                             GOODMAN NETWORKS, INC.   \n",
       "2                          PORTS AMERICA GROUP, INC.   \n",
       "3  GATES CORPORATION, A WHOLLY-OWNED SUBSIDIARY O...   \n",
       "4                          PEABODY INVESTMENTS CORP.   \n",
       "5                            BURGER KING CORPORATION   \n",
       "6                   BT AND MK ENERGY AND COMMODITIES   \n",
       "7                    GLOBO MOBILE TECHNOLOGIES, INC.   \n",
       "8                                 ESI COMPANIES INC.   \n",
       "9                          LESSARD INTERNATIONAL LLC   \n",
       "\n",
       "                        SOC_NAME  \\\n",
       "0  BIOCHEMISTS AND BIOPHYSICISTS   \n",
       "1               CHIEF EXECUTIVES   \n",
       "2               CHIEF EXECUTIVES   \n",
       "3               CHIEF EXECUTIVES   \n",
       "4               CHIEF EXECUTIVES   \n",
       "5               CHIEF EXECUTIVES   \n",
       "6               CHIEF EXECUTIVES   \n",
       "7               CHIEF EXECUTIVES   \n",
       "8               CHIEF EXECUTIVES   \n",
       "9               CHIEF EXECUTIVES   \n",
       "\n",
       "                                           JOB_TITLE FULL_TIME_POSITION  \\\n",
       "0                       POSTDOCTORAL RESEARCH FELLOW                  N   \n",
       "1                            CHIEF OPERATING OFFICER                  Y   \n",
       "2                              CHIEF PROCESS OFFICER                  Y   \n",
       "3                        REGIONAL PRESIDEN, AMERICAS                  Y   \n",
       "4                       PRESIDENT MONGOLIA AND INDIA                  Y   \n",
       "5  EXECUTIVE V P, GLOBAL DEVELOPMENT AND PRESIDEN...                  Y   \n",
       "6                            CHIEF OPERATING OFFICER                  Y   \n",
       "7                           CHIEF OPERATIONS OFFICER                  Y   \n",
       "8                                          PRESIDENT                  Y   \n",
       "9                                          PRESIDENT                  Y   \n",
       "\n",
       "   PREVAILING_WAGE  YEAR                 WORKSITE         lon        lat  \n",
       "0          36067.0  2016      ANN ARBOR, MICHIGAN  -83.743038  42.280826  \n",
       "1         242674.0  2016             PLANO, TEXAS  -96.698886  33.019843  \n",
       "2         193066.0  2016  JERSEY CITY, NEW JERSEY  -74.077642  40.728158  \n",
       "3         220314.0  2016         DENVER, COLORADO -104.990251  39.739236  \n",
       "4         157518.4  2016      ST. LOUIS, MISSOURI  -90.199404  38.627003  \n",
       "5         225000.0  2016           MIAMI, FLORIDA  -80.191790  25.761680  \n",
       "6          91021.0  2016           HOUSTON, TEXAS  -95.369803  29.760427  \n",
       "7         150000.0  2016     SAN JOSE, CALIFORNIA -121.886329  37.338208  \n",
       "8         127546.0  2016           MEMPHIS, TEXAS         NaN        NaN  \n",
       "9         154648.0  2016         VIENNA, VIRGINIA  -77.265260  38.901223  "
      ]
     },
     "execution_count": 49,
     "metadata": {},
     "output_type": "execute_result"
    }
   ],
   "source": [
    "data.head(10)"
   ]
  },
  {
   "cell_type": "code",
   "execution_count": 50,
   "id": "6ab5c40d",
   "metadata": {},
   "outputs": [
    {
     "ename": "KeyError",
     "evalue": "\"['Unnamed: 0'] not found in axis\"",
     "output_type": "error",
     "traceback": [
      "\u001b[1;31m---------------------------------------------------------------------------\u001b[0m",
      "\u001b[1;31mKeyError\u001b[0m                                  Traceback (most recent call last)",
      "\u001b[1;32m~\\AppData\\Local\\Temp\\ipykernel_20920\\3968099248.py\u001b[0m in \u001b[0;36m<module>\u001b[1;34m\u001b[0m\n\u001b[1;32m----> 1\u001b[1;33m \u001b[0mdata\u001b[0m \u001b[1;33m=\u001b[0m \u001b[0mdata\u001b[0m\u001b[1;33m.\u001b[0m\u001b[0mdrop\u001b[0m\u001b[1;33m(\u001b[0m\u001b[1;33m[\u001b[0m\u001b[1;34m'Unnamed: 0'\u001b[0m\u001b[1;33m,\u001b[0m \u001b[1;34m'EMPLOYER_NAME'\u001b[0m\u001b[1;33m,\u001b[0m\u001b[1;34m'JOB_TITLE'\u001b[0m\u001b[1;33m,\u001b[0m\u001b[1;34m'WORKSITE'\u001b[0m\u001b[1;33m,\u001b[0m \u001b[1;34m'lon'\u001b[0m\u001b[1;33m,\u001b[0m\u001b[1;34m'lat'\u001b[0m\u001b[1;33m]\u001b[0m\u001b[1;33m,\u001b[0m \u001b[0maxis\u001b[0m \u001b[1;33m=\u001b[0m \u001b[1;36m1\u001b[0m\u001b[1;33m)\u001b[0m\u001b[1;33m\u001b[0m\u001b[1;33m\u001b[0m\u001b[0m\n\u001b[0m",
      "\u001b[1;32mc:\\Users\\balu2\\anaconda3\\lib\\site-packages\\pandas\\util\\_decorators.py\u001b[0m in \u001b[0;36mwrapper\u001b[1;34m(*args, **kwargs)\u001b[0m\n\u001b[0;32m    309\u001b[0m                     \u001b[0mstacklevel\u001b[0m\u001b[1;33m=\u001b[0m\u001b[0mstacklevel\u001b[0m\u001b[1;33m,\u001b[0m\u001b[1;33m\u001b[0m\u001b[1;33m\u001b[0m\u001b[0m\n\u001b[0;32m    310\u001b[0m                 )\n\u001b[1;32m--> 311\u001b[1;33m             \u001b[1;32mreturn\u001b[0m \u001b[0mfunc\u001b[0m\u001b[1;33m(\u001b[0m\u001b[1;33m*\u001b[0m\u001b[0margs\u001b[0m\u001b[1;33m,\u001b[0m \u001b[1;33m**\u001b[0m\u001b[0mkwargs\u001b[0m\u001b[1;33m)\u001b[0m\u001b[1;33m\u001b[0m\u001b[1;33m\u001b[0m\u001b[0m\n\u001b[0m\u001b[0;32m    312\u001b[0m \u001b[1;33m\u001b[0m\u001b[0m\n\u001b[0;32m    313\u001b[0m         \u001b[1;32mreturn\u001b[0m \u001b[0mwrapper\u001b[0m\u001b[1;33m\u001b[0m\u001b[1;33m\u001b[0m\u001b[0m\n",
      "\u001b[1;32mc:\\Users\\balu2\\anaconda3\\lib\\site-packages\\pandas\\core\\frame.py\u001b[0m in \u001b[0;36mdrop\u001b[1;34m(self, labels, axis, index, columns, level, inplace, errors)\u001b[0m\n\u001b[0;32m   4955\u001b[0m                 \u001b[0mweight\u001b[0m  \u001b[1;36m1.0\u001b[0m     \u001b[1;36m0.8\u001b[0m\u001b[1;33m\u001b[0m\u001b[1;33m\u001b[0m\u001b[0m\n\u001b[0;32m   4956\u001b[0m         \"\"\"\n\u001b[1;32m-> 4957\u001b[1;33m         return super().drop(\n\u001b[0m\u001b[0;32m   4958\u001b[0m             \u001b[0mlabels\u001b[0m\u001b[1;33m=\u001b[0m\u001b[0mlabels\u001b[0m\u001b[1;33m,\u001b[0m\u001b[1;33m\u001b[0m\u001b[1;33m\u001b[0m\u001b[0m\n\u001b[0;32m   4959\u001b[0m             \u001b[0maxis\u001b[0m\u001b[1;33m=\u001b[0m\u001b[0maxis\u001b[0m\u001b[1;33m,\u001b[0m\u001b[1;33m\u001b[0m\u001b[1;33m\u001b[0m\u001b[0m\n",
      "\u001b[1;32mc:\\Users\\balu2\\anaconda3\\lib\\site-packages\\pandas\\core\\generic.py\u001b[0m in \u001b[0;36mdrop\u001b[1;34m(self, labels, axis, index, columns, level, inplace, errors)\u001b[0m\n\u001b[0;32m   4265\u001b[0m         \u001b[1;32mfor\u001b[0m \u001b[0maxis\u001b[0m\u001b[1;33m,\u001b[0m \u001b[0mlabels\u001b[0m \u001b[1;32min\u001b[0m \u001b[0maxes\u001b[0m\u001b[1;33m.\u001b[0m\u001b[0mitems\u001b[0m\u001b[1;33m(\u001b[0m\u001b[1;33m)\u001b[0m\u001b[1;33m:\u001b[0m\u001b[1;33m\u001b[0m\u001b[1;33m\u001b[0m\u001b[0m\n\u001b[0;32m   4266\u001b[0m             \u001b[1;32mif\u001b[0m \u001b[0mlabels\u001b[0m \u001b[1;32mis\u001b[0m \u001b[1;32mnot\u001b[0m \u001b[1;32mNone\u001b[0m\u001b[1;33m:\u001b[0m\u001b[1;33m\u001b[0m\u001b[1;33m\u001b[0m\u001b[0m\n\u001b[1;32m-> 4267\u001b[1;33m                 \u001b[0mobj\u001b[0m \u001b[1;33m=\u001b[0m \u001b[0mobj\u001b[0m\u001b[1;33m.\u001b[0m\u001b[0m_drop_axis\u001b[0m\u001b[1;33m(\u001b[0m\u001b[0mlabels\u001b[0m\u001b[1;33m,\u001b[0m \u001b[0maxis\u001b[0m\u001b[1;33m,\u001b[0m \u001b[0mlevel\u001b[0m\u001b[1;33m=\u001b[0m\u001b[0mlevel\u001b[0m\u001b[1;33m,\u001b[0m \u001b[0merrors\u001b[0m\u001b[1;33m=\u001b[0m\u001b[0merrors\u001b[0m\u001b[1;33m)\u001b[0m\u001b[1;33m\u001b[0m\u001b[1;33m\u001b[0m\u001b[0m\n\u001b[0m\u001b[0;32m   4268\u001b[0m \u001b[1;33m\u001b[0m\u001b[0m\n\u001b[0;32m   4269\u001b[0m         \u001b[1;32mif\u001b[0m \u001b[0minplace\u001b[0m\u001b[1;33m:\u001b[0m\u001b[1;33m\u001b[0m\u001b[1;33m\u001b[0m\u001b[0m\n",
      "\u001b[1;32mc:\\Users\\balu2\\anaconda3\\lib\\site-packages\\pandas\\core\\generic.py\u001b[0m in \u001b[0;36m_drop_axis\u001b[1;34m(self, labels, axis, level, errors, consolidate, only_slice)\u001b[0m\n\u001b[0;32m   4309\u001b[0m                 \u001b[0mnew_axis\u001b[0m \u001b[1;33m=\u001b[0m \u001b[0maxis\u001b[0m\u001b[1;33m.\u001b[0m\u001b[0mdrop\u001b[0m\u001b[1;33m(\u001b[0m\u001b[0mlabels\u001b[0m\u001b[1;33m,\u001b[0m \u001b[0mlevel\u001b[0m\u001b[1;33m=\u001b[0m\u001b[0mlevel\u001b[0m\u001b[1;33m,\u001b[0m \u001b[0merrors\u001b[0m\u001b[1;33m=\u001b[0m\u001b[0merrors\u001b[0m\u001b[1;33m)\u001b[0m\u001b[1;33m\u001b[0m\u001b[1;33m\u001b[0m\u001b[0m\n\u001b[0;32m   4310\u001b[0m             \u001b[1;32melse\u001b[0m\u001b[1;33m:\u001b[0m\u001b[1;33m\u001b[0m\u001b[1;33m\u001b[0m\u001b[0m\n\u001b[1;32m-> 4311\u001b[1;33m                 \u001b[0mnew_axis\u001b[0m \u001b[1;33m=\u001b[0m \u001b[0maxis\u001b[0m\u001b[1;33m.\u001b[0m\u001b[0mdrop\u001b[0m\u001b[1;33m(\u001b[0m\u001b[0mlabels\u001b[0m\u001b[1;33m,\u001b[0m \u001b[0merrors\u001b[0m\u001b[1;33m=\u001b[0m\u001b[0merrors\u001b[0m\u001b[1;33m)\u001b[0m\u001b[1;33m\u001b[0m\u001b[1;33m\u001b[0m\u001b[0m\n\u001b[0m\u001b[0;32m   4312\u001b[0m             \u001b[0mindexer\u001b[0m \u001b[1;33m=\u001b[0m \u001b[0maxis\u001b[0m\u001b[1;33m.\u001b[0m\u001b[0mget_indexer\u001b[0m\u001b[1;33m(\u001b[0m\u001b[0mnew_axis\u001b[0m\u001b[1;33m)\u001b[0m\u001b[1;33m\u001b[0m\u001b[1;33m\u001b[0m\u001b[0m\n\u001b[0;32m   4313\u001b[0m \u001b[1;33m\u001b[0m\u001b[0m\n",
      "\u001b[1;32mc:\\Users\\balu2\\anaconda3\\lib\\site-packages\\pandas\\core\\indexes\\base.py\u001b[0m in \u001b[0;36mdrop\u001b[1;34m(self, labels, errors)\u001b[0m\n\u001b[0;32m   6659\u001b[0m         \u001b[1;32mif\u001b[0m \u001b[0mmask\u001b[0m\u001b[1;33m.\u001b[0m\u001b[0many\u001b[0m\u001b[1;33m(\u001b[0m\u001b[1;33m)\u001b[0m\u001b[1;33m:\u001b[0m\u001b[1;33m\u001b[0m\u001b[1;33m\u001b[0m\u001b[0m\n\u001b[0;32m   6660\u001b[0m             \u001b[1;32mif\u001b[0m \u001b[0merrors\u001b[0m \u001b[1;33m!=\u001b[0m \u001b[1;34m\"ignore\"\u001b[0m\u001b[1;33m:\u001b[0m\u001b[1;33m\u001b[0m\u001b[1;33m\u001b[0m\u001b[0m\n\u001b[1;32m-> 6661\u001b[1;33m                 \u001b[1;32mraise\u001b[0m \u001b[0mKeyError\u001b[0m\u001b[1;33m(\u001b[0m\u001b[1;34mf\"{list(labels[mask])} not found in axis\"\u001b[0m\u001b[1;33m)\u001b[0m\u001b[1;33m\u001b[0m\u001b[1;33m\u001b[0m\u001b[0m\n\u001b[0m\u001b[0;32m   6662\u001b[0m             \u001b[0mindexer\u001b[0m \u001b[1;33m=\u001b[0m \u001b[0mindexer\u001b[0m\u001b[1;33m[\u001b[0m\u001b[1;33m~\u001b[0m\u001b[0mmask\u001b[0m\u001b[1;33m]\u001b[0m\u001b[1;33m\u001b[0m\u001b[1;33m\u001b[0m\u001b[0m\n\u001b[0;32m   6663\u001b[0m         \u001b[1;32mreturn\u001b[0m \u001b[0mself\u001b[0m\u001b[1;33m.\u001b[0m\u001b[0mdelete\u001b[0m\u001b[1;33m(\u001b[0m\u001b[0mindexer\u001b[0m\u001b[1;33m)\u001b[0m\u001b[1;33m\u001b[0m\u001b[1;33m\u001b[0m\u001b[0m\n",
      "\u001b[1;31mKeyError\u001b[0m: \"['Unnamed: 0'] not found in axis\""
     ]
    }
   ],
   "source": [
    "data = data.drop(['Unnamed: 0', 'EMPLOYER_NAME','JOB_TITLE','WORKSITE', 'lon','lat'], axis = 1)"
   ]
  },
  {
   "cell_type": "code",
   "execution_count": null,
   "id": "63f4d870",
   "metadata": {},
   "outputs": [
    {
     "data": {
      "text/html": [
       "<div>\n",
       "<style scoped>\n",
       "    .dataframe tbody tr th:only-of-type {\n",
       "        vertical-align: middle;\n",
       "    }\n",
       "\n",
       "    .dataframe tbody tr th {\n",
       "        vertical-align: top;\n",
       "    }\n",
       "\n",
       "    .dataframe thead th {\n",
       "        text-align: right;\n",
       "    }\n",
       "</style>\n",
       "<table border=\"1\" class=\"dataframe\">\n",
       "  <thead>\n",
       "    <tr style=\"text-align: right;\">\n",
       "      <th></th>\n",
       "      <th>CASE_STATUS</th>\n",
       "      <th>SOC_NAME</th>\n",
       "      <th>FULL_TIME_POSITION</th>\n",
       "      <th>PREVAILING_WAGE</th>\n",
       "      <th>YEAR</th>\n",
       "    </tr>\n",
       "  </thead>\n",
       "  <tbody>\n",
       "    <tr>\n",
       "      <th>0</th>\n",
       "      <td>CERTIFIED-WITHDRAWN</td>\n",
       "      <td>BIOCHEMISTS AND BIOPHYSICISTS</td>\n",
       "      <td>N</td>\n",
       "      <td>36067.0</td>\n",
       "      <td>2016.0</td>\n",
       "    </tr>\n",
       "    <tr>\n",
       "      <th>1</th>\n",
       "      <td>CERTIFIED-WITHDRAWN</td>\n",
       "      <td>CHIEF EXECUTIVES</td>\n",
       "      <td>Y</td>\n",
       "      <td>242674.0</td>\n",
       "      <td>2016.0</td>\n",
       "    </tr>\n",
       "    <tr>\n",
       "      <th>2</th>\n",
       "      <td>CERTIFIED-WITHDRAWN</td>\n",
       "      <td>CHIEF EXECUTIVES</td>\n",
       "      <td>Y</td>\n",
       "      <td>193066.0</td>\n",
       "      <td>2016.0</td>\n",
       "    </tr>\n",
       "    <tr>\n",
       "      <th>3</th>\n",
       "      <td>CERTIFIED-WITHDRAWN</td>\n",
       "      <td>CHIEF EXECUTIVES</td>\n",
       "      <td>Y</td>\n",
       "      <td>220314.0</td>\n",
       "      <td>2016.0</td>\n",
       "    </tr>\n",
       "    <tr>\n",
       "      <th>4</th>\n",
       "      <td>WITHDRAWN</td>\n",
       "      <td>CHIEF EXECUTIVES</td>\n",
       "      <td>Y</td>\n",
       "      <td>157518.4</td>\n",
       "      <td>2016.0</td>\n",
       "    </tr>\n",
       "    <tr>\n",
       "      <th>...</th>\n",
       "      <td>...</td>\n",
       "      <td>...</td>\n",
       "      <td>...</td>\n",
       "      <td>...</td>\n",
       "      <td>...</td>\n",
       "    </tr>\n",
       "    <tr>\n",
       "      <th>3002453</th>\n",
       "      <td>NaN</td>\n",
       "      <td>NaN</td>\n",
       "      <td>NaN</td>\n",
       "      <td>NaN</td>\n",
       "      <td>NaN</td>\n",
       "    </tr>\n",
       "    <tr>\n",
       "      <th>3002454</th>\n",
       "      <td>NaN</td>\n",
       "      <td>NaN</td>\n",
       "      <td>NaN</td>\n",
       "      <td>NaN</td>\n",
       "      <td>NaN</td>\n",
       "    </tr>\n",
       "    <tr>\n",
       "      <th>3002455</th>\n",
       "      <td>NaN</td>\n",
       "      <td>NaN</td>\n",
       "      <td>NaN</td>\n",
       "      <td>NaN</td>\n",
       "      <td>NaN</td>\n",
       "    </tr>\n",
       "    <tr>\n",
       "      <th>3002456</th>\n",
       "      <td>NaN</td>\n",
       "      <td>NaN</td>\n",
       "      <td>NaN</td>\n",
       "      <td>NaN</td>\n",
       "      <td>NaN</td>\n",
       "    </tr>\n",
       "    <tr>\n",
       "      <th>3002457</th>\n",
       "      <td>NaN</td>\n",
       "      <td>NaN</td>\n",
       "      <td>NaN</td>\n",
       "      <td>NaN</td>\n",
       "      <td>NaN</td>\n",
       "    </tr>\n",
       "  </tbody>\n",
       "</table>\n",
       "<p>3002458 rows × 5 columns</p>\n",
       "</div>"
      ],
      "text/plain": [
       "                 CASE_STATUS                       SOC_NAME  \\\n",
       "0        CERTIFIED-WITHDRAWN  BIOCHEMISTS AND BIOPHYSICISTS   \n",
       "1        CERTIFIED-WITHDRAWN               CHIEF EXECUTIVES   \n",
       "2        CERTIFIED-WITHDRAWN               CHIEF EXECUTIVES   \n",
       "3        CERTIFIED-WITHDRAWN               CHIEF EXECUTIVES   \n",
       "4                  WITHDRAWN               CHIEF EXECUTIVES   \n",
       "...                      ...                            ...   \n",
       "3002453                  NaN                            NaN   \n",
       "3002454                  NaN                            NaN   \n",
       "3002455                  NaN                            NaN   \n",
       "3002456                  NaN                            NaN   \n",
       "3002457                  NaN                            NaN   \n",
       "\n",
       "        FULL_TIME_POSITION  PREVAILING_WAGE    YEAR  \n",
       "0                        N          36067.0  2016.0  \n",
       "1                        Y         242674.0  2016.0  \n",
       "2                        Y         193066.0  2016.0  \n",
       "3                        Y         220314.0  2016.0  \n",
       "4                        Y         157518.4  2016.0  \n",
       "...                    ...              ...     ...  \n",
       "3002453                NaN              NaN     NaN  \n",
       "3002454                NaN              NaN     NaN  \n",
       "3002455                NaN              NaN     NaN  \n",
       "3002456                NaN              NaN     NaN  \n",
       "3002457                NaN              NaN     NaN  \n",
       "\n",
       "[3002458 rows x 5 columns]"
      ]
     },
     "execution_count": 26,
     "metadata": {},
     "output_type": "execute_result"
    }
   ],
   "source": [
    "data"
   ]
  },
  {
   "cell_type": "code",
   "execution_count": null,
   "id": "ec81077c",
   "metadata": {},
   "outputs": [
    {
     "name": "stderr",
     "output_type": "stream",
     "text": [
      "C:\\Users\\balu2\\AppData\\Local\\Temp\\ipykernel_15676\\353935960.py:1: FutureWarning: Dropping of nuisance columns in DataFrame reductions (with 'numeric_only=None') is deprecated; in a future version this will raise TypeError.  Select only valid columns before calling the reduction.\n",
      "  data.mean(axis=1,skipna = True)\n"
     ]
    },
    {
     "data": {
      "text/plain": [
       "0           19041.5\n",
       "1          122345.0\n",
       "2           97541.0\n",
       "3          111165.0\n",
       "4           79767.2\n",
       "             ...   \n",
       "3002453         NaN\n",
       "3002454         NaN\n",
       "3002455         NaN\n",
       "3002456         NaN\n",
       "3002457         NaN\n",
       "Length: 3002458, dtype: float64"
      ]
     },
     "execution_count": 27,
     "metadata": {},
     "output_type": "execute_result"
    }
   ],
   "source": [
    "data.mean(axis=1,skipna = True)"
   ]
  },
  {
   "cell_type": "code",
   "execution_count": null,
   "id": "fb35d394",
   "metadata": {},
   "outputs": [
    {
     "data": {
      "text/plain": [
       "CASE_STATUS           True\n",
       "SOC_NAME              True\n",
       "FULL_TIME_POSITION    True\n",
       "PREVAILING_WAGE       True\n",
       "YEAR                  True\n",
       "dtype: bool"
      ]
     },
     "execution_count": 28,
     "metadata": {},
     "output_type": "execute_result"
    }
   ],
   "source": [
    "data.isnull().any()"
   ]
  },
  {
   "cell_type": "code",
   "execution_count": null,
   "id": "94023b96",
   "metadata": {},
   "outputs": [],
   "source": [
    "data['CASE_STATUS'].fillna(data['CASE_STATUS'].mode().iloc[0],inplace=True)\n",
    "data['SOC_NAME'].fillna(data['SOC_NAME'].mode().iloc[0],inplace=True)\n",
    "data['FULL_TIME_POSITION'].fillna(data['FULL_TIME_POSITION'].mode().iloc[0],inplace=True)\n",
    "data['YEAR'].fillna(data['YEAR'].mode().iloc[0],inplace=True)"
   ]
  },
  {
   "cell_type": "code",
   "execution_count": null,
   "id": "ff2940ae",
   "metadata": {},
   "outputs": [],
   "source": [
    "data['PREVAILING_WAGE'].fillna(data['PREVAILING_WAGE'].median(),inplace=True)"
   ]
  },
  {
   "cell_type": "code",
   "execution_count": null,
   "id": "17183688",
   "metadata": {},
   "outputs": [
    {
     "data": {
      "text/plain": [
       "CASE_STATUS           False\n",
       "SOC_NAME              False\n",
       "FULL_TIME_POSITION    False\n",
       "PREVAILING_WAGE       False\n",
       "YEAR                  False\n",
       "dtype: bool"
      ]
     },
     "execution_count": 31,
     "metadata": {},
     "output_type": "execute_result"
    }
   ],
   "source": [
    "data.isnull().any()"
   ]
  },
  {
   "cell_type": "code",
   "execution_count": null,
   "id": "aac4a858",
   "metadata": {},
   "outputs": [
    {
     "data": {
      "text/plain": [
       "CASE_STATUS           0\n",
       "SOC_NAME              0\n",
       "FULL_TIME_POSITION    0\n",
       "PREVAILING_WAGE       0\n",
       "YEAR                  0\n",
       "dtype: int64"
      ]
     },
     "execution_count": 32,
     "metadata": {},
     "output_type": "execute_result"
    }
   ],
   "source": [
    "data.isnull().sum()"
   ]
  },
  {
   "cell_type": "code",
   "execution_count": null,
   "id": "0924a6bc",
   "metadata": {},
   "outputs": [
    {
     "name": "stdout",
     "output_type": "stream",
     "text": [
      "['CERTIFIED-WITHDRAWN' 'WITHDRAWN' 'CERTIFIED' 'DENIED' 'REJECTED'\n",
      " 'INVALIDATED' 'PENDING QUALITY AND COMPLIANCE REVIEW - UNASSIGNED']\n",
      "[2016. 2015. 2014. 2013. 2012. 2011.]\n",
      "['N' 'Y']\n"
     ]
    }
   ],
   "source": [
    "print(data['CASE_STATUS'].unique())\n",
    "print(data['YEAR'].unique())\n",
    "print(data['FULL_TIME_POSITION'].unique())"
   ]
  },
  {
   "cell_type": "markdown",
   "id": "3279ccb8",
   "metadata": {},
   "source": [
    "# Label Encoding"
   ]
  },
  {
   "cell_type": "code",
   "execution_count": null,
   "id": "c32dca5c",
   "metadata": {},
   "outputs": [],
   "source": [
    "data['CASE_STATUS'] = data['CASE_STATUS'].map({'CERTIFIED': 0,'CERTIFIED-WITHDRAWN': 1,'DENIED': 2,'WITHDRAWN': 3,'PENDING QUALITY AND COMPLIANCE REVIEW - UNASSIGNED': 4,'REJECTED': 5,'INVALIDATED': 6})"
   ]
  },
  {
   "cell_type": "code",
   "execution_count": null,
   "id": "6e524e69",
   "metadata": {},
   "outputs": [],
   "source": [
    "data['FULL_TIME_POSITION'] = data['FULL_TIME_POSITION'].map({'N': 0, 'Y': 1})"
   ]
  },
  {
   "cell_type": "code",
   "execution_count": null,
   "id": "df624616",
   "metadata": {},
   "outputs": [
    {
     "data": {
      "text/html": [
       "<div>\n",
       "<style scoped>\n",
       "    .dataframe tbody tr th:only-of-type {\n",
       "        vertical-align: middle;\n",
       "    }\n",
       "\n",
       "    .dataframe tbody tr th {\n",
       "        vertical-align: top;\n",
       "    }\n",
       "\n",
       "    .dataframe thead th {\n",
       "        text-align: right;\n",
       "    }\n",
       "</style>\n",
       "<table border=\"1\" class=\"dataframe\">\n",
       "  <thead>\n",
       "    <tr style=\"text-align: right;\">\n",
       "      <th></th>\n",
       "      <th>CASE_STATUS</th>\n",
       "      <th>SOC_NAME</th>\n",
       "      <th>FULL_TIME_POSITION</th>\n",
       "      <th>PREVAILING_WAGE</th>\n",
       "      <th>YEAR</th>\n",
       "    </tr>\n",
       "  </thead>\n",
       "  <tbody>\n",
       "    <tr>\n",
       "      <th>0</th>\n",
       "      <td>1</td>\n",
       "      <td>BIOCHEMISTS AND BIOPHYSICISTS</td>\n",
       "      <td>0</td>\n",
       "      <td>36067.0</td>\n",
       "      <td>2016.0</td>\n",
       "    </tr>\n",
       "    <tr>\n",
       "      <th>1</th>\n",
       "      <td>1</td>\n",
       "      <td>CHIEF EXECUTIVES</td>\n",
       "      <td>1</td>\n",
       "      <td>242674.0</td>\n",
       "      <td>2016.0</td>\n",
       "    </tr>\n",
       "    <tr>\n",
       "      <th>2</th>\n",
       "      <td>1</td>\n",
       "      <td>CHIEF EXECUTIVES</td>\n",
       "      <td>1</td>\n",
       "      <td>193066.0</td>\n",
       "      <td>2016.0</td>\n",
       "    </tr>\n",
       "    <tr>\n",
       "      <th>3</th>\n",
       "      <td>1</td>\n",
       "      <td>CHIEF EXECUTIVES</td>\n",
       "      <td>1</td>\n",
       "      <td>220314.0</td>\n",
       "      <td>2016.0</td>\n",
       "    </tr>\n",
       "    <tr>\n",
       "      <th>4</th>\n",
       "      <td>3</td>\n",
       "      <td>CHIEF EXECUTIVES</td>\n",
       "      <td>1</td>\n",
       "      <td>157518.4</td>\n",
       "      <td>2016.0</td>\n",
       "    </tr>\n",
       "  </tbody>\n",
       "</table>\n",
       "</div>"
      ],
      "text/plain": [
       "   CASE_STATUS                       SOC_NAME  FULL_TIME_POSITION  \\\n",
       "0            1  BIOCHEMISTS AND BIOPHYSICISTS                   0   \n",
       "1            1               CHIEF EXECUTIVES                   1   \n",
       "2            1               CHIEF EXECUTIVES                   1   \n",
       "3            1               CHIEF EXECUTIVES                   1   \n",
       "4            3               CHIEF EXECUTIVES                   1   \n",
       "\n",
       "   PREVAILING_WAGE    YEAR  \n",
       "0          36067.0  2016.0  \n",
       "1         242674.0  2016.0  \n",
       "2         193066.0  2016.0  \n",
       "3         220314.0  2016.0  \n",
       "4         157518.4  2016.0  "
      ]
     },
     "execution_count": 36,
     "metadata": {},
     "output_type": "execute_result"
    }
   ],
   "source": [
    "data.head()"
   ]
  },
  {
   "cell_type": "code",
   "execution_count": null,
   "id": "a5244d50",
   "metadata": {},
   "outputs": [],
   "source": [
    "# For SOC_NAME Labelencoding is in different format."
   ]
  },
  {
   "cell_type": "code",
   "execution_count": null,
   "id": "58a4d0a6",
   "metadata": {},
   "outputs": [
    {
     "name": "stderr",
     "output_type": "stream",
     "text": [
      "C:\\Users\\balu2\\AppData\\Local\\Temp\\ipykernel_15676\\4189311272.py:3: SettingWithCopyWarning: \n",
      "A value is trying to be set on a copy of a slice from a DataFrame\n",
      "\n",
      "See the caveats in the documentation: https://pandas.pydata.org/pandas-docs/stable/user_guide/indexing.html#returning-a-view-versus-a-copy\n",
      "  data['SOC_NAME1'][data['SOC_NAME'].str.contains('chief','management')] = 'manager'\n",
      "C:\\Users\\balu2\\AppData\\Local\\Temp\\ipykernel_15676\\4189311272.py:4: SettingWithCopyWarning: \n",
      "A value is trying to be set on a copy of a slice from a DataFrame\n",
      "\n",
      "See the caveats in the documentation: https://pandas.pydata.org/pandas-docs/stable/user_guide/indexing.html#returning-a-view-versus-a-copy\n",
      "  data['SOC_NAME1'][data['SOC_NAME'].str.contains('computer','software')] = 'it'\n",
      "C:\\Users\\balu2\\AppData\\Local\\Temp\\ipykernel_15676\\4189311272.py:5: SettingWithCopyWarning: \n",
      "A value is trying to be set on a copy of a slice from a DataFrame\n",
      "\n",
      "See the caveats in the documentation: https://pandas.pydata.org/pandas-docs/stable/user_guide/indexing.html#returning-a-view-versus-a-copy\n",
      "  data['SOC_NAME1'][data['SOC_NAME'].str.contains('mechanical')] = 'mechanical'\n",
      "C:\\Users\\balu2\\AppData\\Local\\Temp\\ipykernel_15676\\4189311272.py:6: SettingWithCopyWarning: \n",
      "A value is trying to be set on a copy of a slice from a DataFrame\n",
      "\n",
      "See the caveats in the documentation: https://pandas.pydata.org/pandas-docs/stable/user_guide/indexing.html#returning-a-view-versus-a-copy\n",
      "  data['SOC_NAME1'][data['SOC_NAME'].str.contains('database')] = 'database'\n",
      "C:\\Users\\balu2\\AppData\\Local\\Temp\\ipykernel_15676\\4189311272.py:7: SettingWithCopyWarning: \n",
      "A value is trying to be set on a copy of a slice from a DataFrame\n",
      "\n",
      "See the caveats in the documentation: https://pandas.pydata.org/pandas-docs/stable/user_guide/indexing.html#returning-a-view-versus-a-copy\n",
      "  data['SOC_NAME1'][data['SOC_NAME'].str.contains('sales','market')] = 'scm'\n",
      "C:\\Users\\balu2\\AppData\\Local\\Temp\\ipykernel_15676\\4189311272.py:8: SettingWithCopyWarning: \n",
      "A value is trying to be set on a copy of a slice from a DataFrame\n",
      "\n",
      "See the caveats in the documentation: https://pandas.pydata.org/pandas-docs/stable/user_guide/indexing.html#returning-a-view-versus-a-copy\n",
      "  data['SOC_NAME1'][data['SOC_NAME'].str.contains('financial')] = 'finance'\n",
      "C:\\Users\\balu2\\AppData\\Local\\Temp\\ipykernel_15676\\4189311272.py:9: SettingWithCopyWarning: \n",
      "A value is trying to be set on a copy of a slice from a DataFrame\n",
      "\n",
      "See the caveats in the documentation: https://pandas.pydata.org/pandas-docs/stable/user_guide/indexing.html#returning-a-view-versus-a-copy\n",
      "  data['SOC_NAME1'][data['SOC_NAME'].str.contains('public','fundraising')] = 'pr'\n",
      "C:\\Users\\balu2\\AppData\\Local\\Temp\\ipykernel_15676\\4189311272.py:10: SettingWithCopyWarning: \n",
      "A value is trying to be set on a copy of a slice from a DataFrame\n",
      "\n",
      "See the caveats in the documentation: https://pandas.pydata.org/pandas-docs/stable/user_guide/indexing.html#returning-a-view-versus-a-copy\n",
      "  data['SOC_NAME1'][data['SOC_NAME'].str.contains('education','law')] = 'administrative'\n",
      "C:\\Users\\balu2\\AppData\\Local\\Temp\\ipykernel_15676\\4189311272.py:11: SettingWithCopyWarning: \n",
      "A value is trying to be set on a copy of a slice from a DataFrame\n",
      "\n",
      "See the caveats in the documentation: https://pandas.pydata.org/pandas-docs/stable/user_guide/indexing.html#returning-a-view-versus-a-copy\n",
      "  data['SOC_NAME1'][data['SOC_NAME'].str.contains('auditors','compliance')] = 'audit'\n",
      "C:\\Users\\balu2\\AppData\\Local\\Temp\\ipykernel_15676\\4189311272.py:12: SettingWithCopyWarning: \n",
      "A value is trying to be set on a copy of a slice from a DataFrame\n",
      "\n",
      "See the caveats in the documentation: https://pandas.pydata.org/pandas-docs/stable/user_guide/indexing.html#returning-a-view-versus-a-copy\n",
      "  data['SOC_NAME1'][data['SOC_NAME'].str.contains('distribution','logistics')] = 'scm'\n",
      "C:\\Users\\balu2\\AppData\\Local\\Temp\\ipykernel_15676\\4189311272.py:13: SettingWithCopyWarning: \n",
      "A value is trying to be set on a copy of a slice from a DataFrame\n",
      "\n",
      "See the caveats in the documentation: https://pandas.pydata.org/pandas-docs/stable/user_guide/indexing.html#returning-a-view-versus-a-copy\n",
      "  data['SOC_NAME1'][data['SOC_NAME'].str.contains('recruiters','human')] = 'hr'\n",
      "C:\\Users\\balu2\\AppData\\Local\\Temp\\ipykernel_15676\\4189311272.py:14: SettingWithCopyWarning: \n",
      "A value is trying to be set on a copy of a slice from a DataFrame\n",
      "\n",
      "See the caveats in the documentation: https://pandas.pydata.org/pandas-docs/stable/user_guide/indexing.html#returning-a-view-versus-a-copy\n",
      "  data['SOC_NAME1'][data['SOC_NAME'].str.contains('agricultural','farm')] = 'agri'\n",
      "C:\\Users\\balu2\\AppData\\Local\\Temp\\ipykernel_15676\\4189311272.py:15: SettingWithCopyWarning: \n",
      "A value is trying to be set on a copy of a slice from a DataFrame\n",
      "\n",
      "See the caveats in the documentation: https://pandas.pydata.org/pandas-docs/stable/user_guide/indexing.html#returning-a-view-versus-a-copy\n",
      "  data['SOC_NAME1'][data['SOC_NAME'].str.contains('construction','architectural')] = 'estate'\n",
      "C:\\Users\\balu2\\AppData\\Local\\Temp\\ipykernel_15676\\4189311272.py:16: SettingWithCopyWarning: \n",
      "A value is trying to be set on a copy of a slice from a DataFrame\n",
      "\n",
      "See the caveats in the documentation: https://pandas.pydata.org/pandas-docs/stable/user_guide/indexing.html#returning-a-view-versus-a-copy\n",
      "  data['SOC_NAME1'][data['SOC_NAME'].str.contains('forencsic','health')] = 'medical'\n",
      "C:\\Users\\balu2\\AppData\\Local\\Temp\\ipykernel_15676\\4189311272.py:17: SettingWithCopyWarning: \n",
      "A value is trying to be set on a copy of a slice from a DataFrame\n",
      "\n",
      "See the caveats in the documentation: https://pandas.pydata.org/pandas-docs/stable/user_guide/indexing.html#returning-a-view-versus-a-copy\n",
      "  data['SOC_NAME1'][data['SOC_NAME'].str.contains('teachers')] = 'education'\n"
     ]
    }
   ],
   "source": [
    "import sys\n",
    "data['SOC_NAME1'] = 'others'\n",
    "data['SOC_NAME1'][data['SOC_NAME'].str.contains('chief','management')] = 'manager'\n",
    "data['SOC_NAME1'][data['SOC_NAME'].str.contains('computer','software')] = 'it'\n",
    "data['SOC_NAME1'][data['SOC_NAME'].str.contains('mechanical')] = 'mechanical'\n",
    "data['SOC_NAME1'][data['SOC_NAME'].str.contains('database')] = 'database'\n",
    "data['SOC_NAME1'][data['SOC_NAME'].str.contains('sales','market')] = 'scm'\n",
    "data['SOC_NAME1'][data['SOC_NAME'].str.contains('financial')] = 'finance'\n",
    "data['SOC_NAME1'][data['SOC_NAME'].str.contains('public','fundraising')] = 'pr'\n",
    "data['SOC_NAME1'][data['SOC_NAME'].str.contains('education','law')] = 'administrative'\n",
    "data['SOC_NAME1'][data['SOC_NAME'].str.contains('auditors','compliance')] = 'audit'\n",
    "data['SOC_NAME1'][data['SOC_NAME'].str.contains('distribution','logistics')] = 'scm'\n",
    "data['SOC_NAME1'][data['SOC_NAME'].str.contains('recruiters','human')] = 'hr'\n",
    "data['SOC_NAME1'][data['SOC_NAME'].str.contains('agricultural','farm')] = 'agri'\n",
    "data['SOC_NAME1'][data['SOC_NAME'].str.contains('construction','architectural')] = 'estate'\n",
    "data['SOC_NAME1'][data['SOC_NAME'].str.contains('forencsic','health')] = 'medical'\n",
    "data['SOC_NAME1'][data['SOC_NAME'].str.contains('teachers')] = 'education'"
   ]
  },
  {
   "cell_type": "code",
   "execution_count": null,
   "id": "37703970",
   "metadata": {},
   "outputs": [
    {
     "data": {
      "text/html": [
       "<div>\n",
       "<style scoped>\n",
       "    .dataframe tbody tr th:only-of-type {\n",
       "        vertical-align: middle;\n",
       "    }\n",
       "\n",
       "    .dataframe tbody tr th {\n",
       "        vertical-align: top;\n",
       "    }\n",
       "\n",
       "    .dataframe thead th {\n",
       "        text-align: right;\n",
       "    }\n",
       "</style>\n",
       "<table border=\"1\" class=\"dataframe\">\n",
       "  <thead>\n",
       "    <tr style=\"text-align: right;\">\n",
       "      <th></th>\n",
       "      <th>CASE_STATUS</th>\n",
       "      <th>SOC_NAME</th>\n",
       "      <th>FULL_TIME_POSITION</th>\n",
       "      <th>PREVAILING_WAGE</th>\n",
       "      <th>YEAR</th>\n",
       "      <th>SOC_NAME1</th>\n",
       "    </tr>\n",
       "  </thead>\n",
       "  <tbody>\n",
       "    <tr>\n",
       "      <th>0</th>\n",
       "      <td>1</td>\n",
       "      <td>BIOCHEMISTS AND BIOPHYSICISTS</td>\n",
       "      <td>0</td>\n",
       "      <td>36067.0</td>\n",
       "      <td>2016.0</td>\n",
       "      <td>others</td>\n",
       "    </tr>\n",
       "    <tr>\n",
       "      <th>1</th>\n",
       "      <td>1</td>\n",
       "      <td>CHIEF EXECUTIVES</td>\n",
       "      <td>1</td>\n",
       "      <td>242674.0</td>\n",
       "      <td>2016.0</td>\n",
       "      <td>others</td>\n",
       "    </tr>\n",
       "    <tr>\n",
       "      <th>2</th>\n",
       "      <td>1</td>\n",
       "      <td>CHIEF EXECUTIVES</td>\n",
       "      <td>1</td>\n",
       "      <td>193066.0</td>\n",
       "      <td>2016.0</td>\n",
       "      <td>others</td>\n",
       "    </tr>\n",
       "    <tr>\n",
       "      <th>3</th>\n",
       "      <td>1</td>\n",
       "      <td>CHIEF EXECUTIVES</td>\n",
       "      <td>1</td>\n",
       "      <td>220314.0</td>\n",
       "      <td>2016.0</td>\n",
       "      <td>others</td>\n",
       "    </tr>\n",
       "    <tr>\n",
       "      <th>4</th>\n",
       "      <td>3</td>\n",
       "      <td>CHIEF EXECUTIVES</td>\n",
       "      <td>1</td>\n",
       "      <td>157518.4</td>\n",
       "      <td>2016.0</td>\n",
       "      <td>others</td>\n",
       "    </tr>\n",
       "    <tr>\n",
       "      <th>5</th>\n",
       "      <td>1</td>\n",
       "      <td>CHIEF EXECUTIVES</td>\n",
       "      <td>1</td>\n",
       "      <td>225000.0</td>\n",
       "      <td>2016.0</td>\n",
       "      <td>others</td>\n",
       "    </tr>\n",
       "    <tr>\n",
       "      <th>6</th>\n",
       "      <td>1</td>\n",
       "      <td>CHIEF EXECUTIVES</td>\n",
       "      <td>1</td>\n",
       "      <td>91021.0</td>\n",
       "      <td>2016.0</td>\n",
       "      <td>others</td>\n",
       "    </tr>\n",
       "    <tr>\n",
       "      <th>7</th>\n",
       "      <td>1</td>\n",
       "      <td>CHIEF EXECUTIVES</td>\n",
       "      <td>1</td>\n",
       "      <td>150000.0</td>\n",
       "      <td>2016.0</td>\n",
       "      <td>others</td>\n",
       "    </tr>\n",
       "    <tr>\n",
       "      <th>8</th>\n",
       "      <td>1</td>\n",
       "      <td>CHIEF EXECUTIVES</td>\n",
       "      <td>1</td>\n",
       "      <td>127546.0</td>\n",
       "      <td>2016.0</td>\n",
       "      <td>others</td>\n",
       "    </tr>\n",
       "    <tr>\n",
       "      <th>9</th>\n",
       "      <td>3</td>\n",
       "      <td>CHIEF EXECUTIVES</td>\n",
       "      <td>1</td>\n",
       "      <td>154648.0</td>\n",
       "      <td>2016.0</td>\n",
       "      <td>others</td>\n",
       "    </tr>\n",
       "    <tr>\n",
       "      <th>10</th>\n",
       "      <td>1</td>\n",
       "      <td>CHIEF EXECUTIVES</td>\n",
       "      <td>1</td>\n",
       "      <td>182978.0</td>\n",
       "      <td>2016.0</td>\n",
       "      <td>others</td>\n",
       "    </tr>\n",
       "    <tr>\n",
       "      <th>11</th>\n",
       "      <td>1</td>\n",
       "      <td>CHIEF EXECUTIVES</td>\n",
       "      <td>1</td>\n",
       "      <td>163717.0</td>\n",
       "      <td>2016.0</td>\n",
       "      <td>others</td>\n",
       "    </tr>\n",
       "    <tr>\n",
       "      <th>12</th>\n",
       "      <td>1</td>\n",
       "      <td>CHIEF EXECUTIVES</td>\n",
       "      <td>1</td>\n",
       "      <td>203860.8</td>\n",
       "      <td>2016.0</td>\n",
       "      <td>others</td>\n",
       "    </tr>\n",
       "    <tr>\n",
       "      <th>13</th>\n",
       "      <td>1</td>\n",
       "      <td>CHIEF EXECUTIVES</td>\n",
       "      <td>1</td>\n",
       "      <td>252637.0</td>\n",
       "      <td>2016.0</td>\n",
       "      <td>others</td>\n",
       "    </tr>\n",
       "    <tr>\n",
       "      <th>14</th>\n",
       "      <td>1</td>\n",
       "      <td>CHIEF EXECUTIVES</td>\n",
       "      <td>1</td>\n",
       "      <td>105914.0</td>\n",
       "      <td>2016.0</td>\n",
       "      <td>others</td>\n",
       "    </tr>\n",
       "    <tr>\n",
       "      <th>15</th>\n",
       "      <td>1</td>\n",
       "      <td>CHIEF EXECUTIVES</td>\n",
       "      <td>1</td>\n",
       "      <td>153046.0</td>\n",
       "      <td>2016.0</td>\n",
       "      <td>others</td>\n",
       "    </tr>\n",
       "    <tr>\n",
       "      <th>16</th>\n",
       "      <td>1</td>\n",
       "      <td>FINANCIAL MANAGERS</td>\n",
       "      <td>1</td>\n",
       "      <td>90834.0</td>\n",
       "      <td>2016.0</td>\n",
       "      <td>others</td>\n",
       "    </tr>\n",
       "    <tr>\n",
       "      <th>17</th>\n",
       "      <td>1</td>\n",
       "      <td>CHIEF EXECUTIVES</td>\n",
       "      <td>1</td>\n",
       "      <td>164050.0</td>\n",
       "      <td>2016.0</td>\n",
       "      <td>others</td>\n",
       "    </tr>\n",
       "    <tr>\n",
       "      <th>18</th>\n",
       "      <td>0</td>\n",
       "      <td>CHIEF EXECUTIVES</td>\n",
       "      <td>1</td>\n",
       "      <td>187200.0</td>\n",
       "      <td>2016.0</td>\n",
       "      <td>others</td>\n",
       "    </tr>\n",
       "    <tr>\n",
       "      <th>19</th>\n",
       "      <td>0</td>\n",
       "      <td>CHIEF EXECUTIVES</td>\n",
       "      <td>1</td>\n",
       "      <td>241842.0</td>\n",
       "      <td>2016.0</td>\n",
       "      <td>others</td>\n",
       "    </tr>\n",
       "    <tr>\n",
       "      <th>20</th>\n",
       "      <td>1</td>\n",
       "      <td>CHIEF EXECUTIVES</td>\n",
       "      <td>1</td>\n",
       "      <td>117998.0</td>\n",
       "      <td>2016.0</td>\n",
       "      <td>others</td>\n",
       "    </tr>\n",
       "    <tr>\n",
       "      <th>21</th>\n",
       "      <td>1</td>\n",
       "      <td>CHIEF EXECUTIVES</td>\n",
       "      <td>1</td>\n",
       "      <td>164050.0</td>\n",
       "      <td>2016.0</td>\n",
       "      <td>others</td>\n",
       "    </tr>\n",
       "    <tr>\n",
       "      <th>22</th>\n",
       "      <td>0</td>\n",
       "      <td>CHIEF EXECUTIVES</td>\n",
       "      <td>1</td>\n",
       "      <td>99986.0</td>\n",
       "      <td>2016.0</td>\n",
       "      <td>others</td>\n",
       "    </tr>\n",
       "    <tr>\n",
       "      <th>23</th>\n",
       "      <td>0</td>\n",
       "      <td>CHIEF EXECUTIVES</td>\n",
       "      <td>1</td>\n",
       "      <td>99986.0</td>\n",
       "      <td>2016.0</td>\n",
       "      <td>others</td>\n",
       "    </tr>\n",
       "    <tr>\n",
       "      <th>24</th>\n",
       "      <td>1</td>\n",
       "      <td>CHIEF EXECUTIVES</td>\n",
       "      <td>1</td>\n",
       "      <td>159370.0</td>\n",
       "      <td>2016.0</td>\n",
       "      <td>others</td>\n",
       "    </tr>\n",
       "  </tbody>\n",
       "</table>\n",
       "</div>"
      ],
      "text/plain": [
       "    CASE_STATUS                       SOC_NAME  FULL_TIME_POSITION  \\\n",
       "0             1  BIOCHEMISTS AND BIOPHYSICISTS                   0   \n",
       "1             1               CHIEF EXECUTIVES                   1   \n",
       "2             1               CHIEF EXECUTIVES                   1   \n",
       "3             1               CHIEF EXECUTIVES                   1   \n",
       "4             3               CHIEF EXECUTIVES                   1   \n",
       "5             1               CHIEF EXECUTIVES                   1   \n",
       "6             1               CHIEF EXECUTIVES                   1   \n",
       "7             1               CHIEF EXECUTIVES                   1   \n",
       "8             1               CHIEF EXECUTIVES                   1   \n",
       "9             3               CHIEF EXECUTIVES                   1   \n",
       "10            1               CHIEF EXECUTIVES                   1   \n",
       "11            1               CHIEF EXECUTIVES                   1   \n",
       "12            1               CHIEF EXECUTIVES                   1   \n",
       "13            1               CHIEF EXECUTIVES                   1   \n",
       "14            1               CHIEF EXECUTIVES                   1   \n",
       "15            1               CHIEF EXECUTIVES                   1   \n",
       "16            1             FINANCIAL MANAGERS                   1   \n",
       "17            1               CHIEF EXECUTIVES                   1   \n",
       "18            0               CHIEF EXECUTIVES                   1   \n",
       "19            0               CHIEF EXECUTIVES                   1   \n",
       "20            1               CHIEF EXECUTIVES                   1   \n",
       "21            1               CHIEF EXECUTIVES                   1   \n",
       "22            0               CHIEF EXECUTIVES                   1   \n",
       "23            0               CHIEF EXECUTIVES                   1   \n",
       "24            1               CHIEF EXECUTIVES                   1   \n",
       "\n",
       "    PREVAILING_WAGE    YEAR SOC_NAME1  \n",
       "0           36067.0  2016.0    others  \n",
       "1          242674.0  2016.0    others  \n",
       "2          193066.0  2016.0    others  \n",
       "3          220314.0  2016.0    others  \n",
       "4          157518.4  2016.0    others  \n",
       "5          225000.0  2016.0    others  \n",
       "6           91021.0  2016.0    others  \n",
       "7          150000.0  2016.0    others  \n",
       "8          127546.0  2016.0    others  \n",
       "9          154648.0  2016.0    others  \n",
       "10         182978.0  2016.0    others  \n",
       "11         163717.0  2016.0    others  \n",
       "12         203860.8  2016.0    others  \n",
       "13         252637.0  2016.0    others  \n",
       "14         105914.0  2016.0    others  \n",
       "15         153046.0  2016.0    others  \n",
       "16          90834.0  2016.0    others  \n",
       "17         164050.0  2016.0    others  \n",
       "18         187200.0  2016.0    others  \n",
       "19         241842.0  2016.0    others  \n",
       "20         117998.0  2016.0    others  \n",
       "21         164050.0  2016.0    others  \n",
       "22          99986.0  2016.0    others  \n",
       "23          99986.0  2016.0    others  \n",
       "24         159370.0  2016.0    others  "
      ]
     },
     "execution_count": 39,
     "metadata": {},
     "output_type": "execute_result"
    }
   ],
   "source": [
    "data.head(25)"
   ]
  },
  {
   "cell_type": "code",
   "execution_count": null,
   "id": "e2815e89",
   "metadata": {},
   "outputs": [
    {
     "data": {
      "text/plain": [
       "array(['others', 'education', 'administrative'], dtype=object)"
      ]
     },
     "execution_count": 40,
     "metadata": {},
     "output_type": "execute_result"
    }
   ],
   "source": [
    "data['SOC_NAME1'].unique()"
   ]
  },
  {
   "cell_type": "code",
   "execution_count": null,
   "id": "59c14f68",
   "metadata": {},
   "outputs": [],
   "source": [
    "from sklearn import preprocessing\n",
    "le = preprocessing.LabelEncoder()\n",
    "le.fit(data['SOC_NAME1'])\n",
    "data['SOC_N'] = le.transform(data['SOC_NAME1'])"
   ]
  },
  {
   "cell_type": "code",
   "execution_count": null,
   "id": "0d7adfa1",
   "metadata": {},
   "outputs": [],
   "source": [
    "group =data.groupby('SOC_NAME1')\n",
    "data2 = group.apply(lambda x: x['SOC_N'].unique())"
   ]
  },
  {
   "cell_type": "code",
   "execution_count": null,
   "id": "15838497",
   "metadata": {},
   "outputs": [
    {
     "data": {
      "text/plain": [
       "SOC_NAME1\n",
       "administrative    [0]\n",
       "education         [1]\n",
       "others            [2]\n",
       "dtype: object"
      ]
     },
     "execution_count": 43,
     "metadata": {},
     "output_type": "execute_result"
    }
   ],
   "source": [
    "data2"
   ]
  },
  {
   "cell_type": "code",
   "execution_count": null,
   "id": "f98af17e",
   "metadata": {
    "scrolled": true
   },
   "outputs": [
    {
     "data": {
      "text/html": [
       "<div>\n",
       "<style scoped>\n",
       "    .dataframe tbody tr th:only-of-type {\n",
       "        vertical-align: middle;\n",
       "    }\n",
       "\n",
       "    .dataframe tbody tr th {\n",
       "        vertical-align: top;\n",
       "    }\n",
       "\n",
       "    .dataframe thead th {\n",
       "        text-align: right;\n",
       "    }\n",
       "</style>\n",
       "<table border=\"1\" class=\"dataframe\">\n",
       "  <thead>\n",
       "    <tr style=\"text-align: right;\">\n",
       "      <th></th>\n",
       "      <th>CASE_STATUS</th>\n",
       "      <th>SOC_NAME</th>\n",
       "      <th>FULL_TIME_POSITION</th>\n",
       "      <th>PREVAILING_WAGE</th>\n",
       "      <th>YEAR</th>\n",
       "      <th>SOC_NAME1</th>\n",
       "      <th>SOC_N</th>\n",
       "    </tr>\n",
       "  </thead>\n",
       "  <tbody>\n",
       "    <tr>\n",
       "      <th>39</th>\n",
       "      <td>2</td>\n",
       "      <td>CHIEF EXECUTIVES</td>\n",
       "      <td>1</td>\n",
       "      <td>187200.0</td>\n",
       "      <td>2016.0</td>\n",
       "      <td>others</td>\n",
       "      <td>2</td>\n",
       "    </tr>\n",
       "    <tr>\n",
       "      <th>47</th>\n",
       "      <td>2</td>\n",
       "      <td>CHIEF EXECUTIVES</td>\n",
       "      <td>1</td>\n",
       "      <td>197683.2</td>\n",
       "      <td>2016.0</td>\n",
       "      <td>others</td>\n",
       "      <td>2</td>\n",
       "    </tr>\n",
       "    <tr>\n",
       "      <th>91</th>\n",
       "      <td>2</td>\n",
       "      <td>CHIEF EXECUTIVES</td>\n",
       "      <td>1</td>\n",
       "      <td>116334.0</td>\n",
       "      <td>2016.0</td>\n",
       "      <td>others</td>\n",
       "      <td>2</td>\n",
       "    </tr>\n",
       "    <tr>\n",
       "      <th>95</th>\n",
       "      <td>2</td>\n",
       "      <td>CHIEF EXECUTIVES</td>\n",
       "      <td>1</td>\n",
       "      <td>226699.0</td>\n",
       "      <td>2016.0</td>\n",
       "      <td>others</td>\n",
       "      <td>2</td>\n",
       "    </tr>\n",
       "    <tr>\n",
       "      <th>98</th>\n",
       "      <td>2</td>\n",
       "      <td>CHIEF EXECUTIVES</td>\n",
       "      <td>1</td>\n",
       "      <td>202363.0</td>\n",
       "      <td>2016.0</td>\n",
       "      <td>others</td>\n",
       "      <td>2</td>\n",
       "    </tr>\n",
       "    <tr>\n",
       "      <th>...</th>\n",
       "      <td>...</td>\n",
       "      <td>...</td>\n",
       "      <td>...</td>\n",
       "      <td>...</td>\n",
       "      <td>...</td>\n",
       "      <td>...</td>\n",
       "      <td>...</td>\n",
       "    </tr>\n",
       "    <tr>\n",
       "      <th>3002369</th>\n",
       "      <td>2</td>\n",
       "      <td>Instructional Coordinators</td>\n",
       "      <td>1</td>\n",
       "      <td>46738.0</td>\n",
       "      <td>2011.0</td>\n",
       "      <td>others</td>\n",
       "      <td>2</td>\n",
       "    </tr>\n",
       "    <tr>\n",
       "      <th>3002378</th>\n",
       "      <td>2</td>\n",
       "      <td>Accountants and Auditors</td>\n",
       "      <td>1</td>\n",
       "      <td>45760.0</td>\n",
       "      <td>2011.0</td>\n",
       "      <td>others</td>\n",
       "      <td>2</td>\n",
       "    </tr>\n",
       "    <tr>\n",
       "      <th>3002383</th>\n",
       "      <td>2</td>\n",
       "      <td>Computer Programmers</td>\n",
       "      <td>1</td>\n",
       "      <td>54080.0</td>\n",
       "      <td>2011.0</td>\n",
       "      <td>others</td>\n",
       "      <td>2</td>\n",
       "    </tr>\n",
       "    <tr>\n",
       "      <th>3002389</th>\n",
       "      <td>2</td>\n",
       "      <td>Sales Engineers</td>\n",
       "      <td>1</td>\n",
       "      <td>55141.0</td>\n",
       "      <td>2011.0</td>\n",
       "      <td>others</td>\n",
       "      <td>2</td>\n",
       "    </tr>\n",
       "    <tr>\n",
       "      <th>3002392</th>\n",
       "      <td>2</td>\n",
       "      <td>Architectural and Civil Drafters</td>\n",
       "      <td>1</td>\n",
       "      <td>69368.0</td>\n",
       "      <td>2011.0</td>\n",
       "      <td>others</td>\n",
       "      <td>2</td>\n",
       "    </tr>\n",
       "  </tbody>\n",
       "</table>\n",
       "<p>94346 rows × 7 columns</p>\n",
       "</div>"
      ],
      "text/plain": [
       "         CASE_STATUS                          SOC_NAME  FULL_TIME_POSITION  \\\n",
       "39                 2                  CHIEF EXECUTIVES                   1   \n",
       "47                 2                  CHIEF EXECUTIVES                   1   \n",
       "91                 2                  CHIEF EXECUTIVES                   1   \n",
       "95                 2                  CHIEF EXECUTIVES                   1   \n",
       "98                 2                  CHIEF EXECUTIVES                   1   \n",
       "...              ...                               ...                 ...   \n",
       "3002369            2        Instructional Coordinators                   1   \n",
       "3002378            2          Accountants and Auditors                   1   \n",
       "3002383            2              Computer Programmers                   1   \n",
       "3002389            2                   Sales Engineers                   1   \n",
       "3002392            2  Architectural and Civil Drafters                   1   \n",
       "\n",
       "         PREVAILING_WAGE    YEAR SOC_NAME1  SOC_N  \n",
       "39              187200.0  2016.0    others      2  \n",
       "47              197683.2  2016.0    others      2  \n",
       "91              116334.0  2016.0    others      2  \n",
       "95              226699.0  2016.0    others      2  \n",
       "98              202363.0  2016.0    others      2  \n",
       "...                  ...     ...       ...    ...  \n",
       "3002369          46738.0  2011.0    others      2  \n",
       "3002378          45760.0  2011.0    others      2  \n",
       "3002383          54080.0  2011.0    others      2  \n",
       "3002389          55141.0  2011.0    others      2  \n",
       "3002392          69368.0  2011.0    others      2  \n",
       "\n",
       "[94346 rows x 7 columns]"
      ]
     },
     "execution_count": 44,
     "metadata": {},
     "output_type": "execute_result"
    }
   ],
   "source": [
    "data.loc[data['CASE_STATUS'] == 2]"
   ]
  },
  {
   "cell_type": "code",
   "execution_count": null,
   "id": "72ac6196",
   "metadata": {},
   "outputs": [
    {
     "data": {
      "text/html": [
       "<div>\n",
       "<style scoped>\n",
       "    .dataframe tbody tr th:only-of-type {\n",
       "        vertical-align: middle;\n",
       "    }\n",
       "\n",
       "    .dataframe tbody tr th {\n",
       "        vertical-align: top;\n",
       "    }\n",
       "\n",
       "    .dataframe thead th {\n",
       "        text-align: right;\n",
       "    }\n",
       "</style>\n",
       "<table border=\"1\" class=\"dataframe\">\n",
       "  <thead>\n",
       "    <tr style=\"text-align: right;\">\n",
       "      <th></th>\n",
       "      <th>CASE_STATUS</th>\n",
       "      <th>SOC_NAME</th>\n",
       "      <th>FULL_TIME_POSITION</th>\n",
       "      <th>PREVAILING_WAGE</th>\n",
       "      <th>YEAR</th>\n",
       "      <th>SOC_NAME1</th>\n",
       "      <th>SOC_N</th>\n",
       "    </tr>\n",
       "  </thead>\n",
       "  <tbody>\n",
       "    <tr>\n",
       "      <th>0</th>\n",
       "      <td>1</td>\n",
       "      <td>BIOCHEMISTS AND BIOPHYSICISTS</td>\n",
       "      <td>0</td>\n",
       "      <td>36067.0</td>\n",
       "      <td>2016.0</td>\n",
       "      <td>others</td>\n",
       "      <td>2</td>\n",
       "    </tr>\n",
       "    <tr>\n",
       "      <th>1</th>\n",
       "      <td>1</td>\n",
       "      <td>CHIEF EXECUTIVES</td>\n",
       "      <td>1</td>\n",
       "      <td>242674.0</td>\n",
       "      <td>2016.0</td>\n",
       "      <td>others</td>\n",
       "      <td>2</td>\n",
       "    </tr>\n",
       "    <tr>\n",
       "      <th>2</th>\n",
       "      <td>1</td>\n",
       "      <td>CHIEF EXECUTIVES</td>\n",
       "      <td>1</td>\n",
       "      <td>193066.0</td>\n",
       "      <td>2016.0</td>\n",
       "      <td>others</td>\n",
       "      <td>2</td>\n",
       "    </tr>\n",
       "    <tr>\n",
       "      <th>3</th>\n",
       "      <td>1</td>\n",
       "      <td>CHIEF EXECUTIVES</td>\n",
       "      <td>1</td>\n",
       "      <td>220314.0</td>\n",
       "      <td>2016.0</td>\n",
       "      <td>others</td>\n",
       "      <td>2</td>\n",
       "    </tr>\n",
       "    <tr>\n",
       "      <th>4</th>\n",
       "      <td>3</td>\n",
       "      <td>CHIEF EXECUTIVES</td>\n",
       "      <td>1</td>\n",
       "      <td>157518.4</td>\n",
       "      <td>2016.0</td>\n",
       "      <td>others</td>\n",
       "      <td>2</td>\n",
       "    </tr>\n",
       "    <tr>\n",
       "      <th>...</th>\n",
       "      <td>...</td>\n",
       "      <td>...</td>\n",
       "      <td>...</td>\n",
       "      <td>...</td>\n",
       "      <td>...</td>\n",
       "      <td>...</td>\n",
       "      <td>...</td>\n",
       "    </tr>\n",
       "    <tr>\n",
       "      <th>3002453</th>\n",
       "      <td>0</td>\n",
       "      <td>Computer Systems Analysts</td>\n",
       "      <td>1</td>\n",
       "      <td>65021.0</td>\n",
       "      <td>2016.0</td>\n",
       "      <td>others</td>\n",
       "      <td>2</td>\n",
       "    </tr>\n",
       "    <tr>\n",
       "      <th>3002454</th>\n",
       "      <td>0</td>\n",
       "      <td>Computer Systems Analysts</td>\n",
       "      <td>1</td>\n",
       "      <td>65021.0</td>\n",
       "      <td>2016.0</td>\n",
       "      <td>others</td>\n",
       "      <td>2</td>\n",
       "    </tr>\n",
       "    <tr>\n",
       "      <th>3002455</th>\n",
       "      <td>0</td>\n",
       "      <td>Computer Systems Analysts</td>\n",
       "      <td>1</td>\n",
       "      <td>65021.0</td>\n",
       "      <td>2016.0</td>\n",
       "      <td>others</td>\n",
       "      <td>2</td>\n",
       "    </tr>\n",
       "    <tr>\n",
       "      <th>3002456</th>\n",
       "      <td>0</td>\n",
       "      <td>Computer Systems Analysts</td>\n",
       "      <td>1</td>\n",
       "      <td>65021.0</td>\n",
       "      <td>2016.0</td>\n",
       "      <td>others</td>\n",
       "      <td>2</td>\n",
       "    </tr>\n",
       "    <tr>\n",
       "      <th>3002457</th>\n",
       "      <td>0</td>\n",
       "      <td>Computer Systems Analysts</td>\n",
       "      <td>1</td>\n",
       "      <td>65021.0</td>\n",
       "      <td>2016.0</td>\n",
       "      <td>others</td>\n",
       "      <td>2</td>\n",
       "    </tr>\n",
       "  </tbody>\n",
       "</table>\n",
       "<p>3002444 rows × 7 columns</p>\n",
       "</div>"
      ],
      "text/plain": [
       "         CASE_STATUS                       SOC_NAME  FULL_TIME_POSITION  \\\n",
       "0                  1  BIOCHEMISTS AND BIOPHYSICISTS                   0   \n",
       "1                  1               CHIEF EXECUTIVES                   1   \n",
       "2                  1               CHIEF EXECUTIVES                   1   \n",
       "3                  1               CHIEF EXECUTIVES                   1   \n",
       "4                  3               CHIEF EXECUTIVES                   1   \n",
       "...              ...                            ...                 ...   \n",
       "3002453            0      Computer Systems Analysts                   1   \n",
       "3002454            0      Computer Systems Analysts                   1   \n",
       "3002455            0      Computer Systems Analysts                   1   \n",
       "3002456            0      Computer Systems Analysts                   1   \n",
       "3002457            0      Computer Systems Analysts                   1   \n",
       "\n",
       "         PREVAILING_WAGE    YEAR SOC_NAME1  SOC_N  \n",
       "0                36067.0  2016.0    others      2  \n",
       "1               242674.0  2016.0    others      2  \n",
       "2               193066.0  2016.0    others      2  \n",
       "3               220314.0  2016.0    others      2  \n",
       "4               157518.4  2016.0    others      2  \n",
       "...                  ...     ...       ...    ...  \n",
       "3002453          65021.0  2016.0    others      2  \n",
       "3002454          65021.0  2016.0    others      2  \n",
       "3002455          65021.0  2016.0    others      2  \n",
       "3002456          65021.0  2016.0    others      2  \n",
       "3002457          65021.0  2016.0    others      2  \n",
       "\n",
       "[3002444 rows x 7 columns]"
      ]
     },
     "execution_count": 45,
     "metadata": {},
     "output_type": "execute_result"
    }
   ],
   "source": [
    "data.loc[data['SOC_N'] == 2]"
   ]
  },
  {
   "cell_type": "code",
   "execution_count": null,
   "id": "d371ca41",
   "metadata": {},
   "outputs": [
    {
     "data": {
      "text/html": [
       "<div>\n",
       "<style scoped>\n",
       "    .dataframe tbody tr th:only-of-type {\n",
       "        vertical-align: middle;\n",
       "    }\n",
       "\n",
       "    .dataframe tbody tr th {\n",
       "        vertical-align: top;\n",
       "    }\n",
       "\n",
       "    .dataframe thead th {\n",
       "        text-align: right;\n",
       "    }\n",
       "</style>\n",
       "<table border=\"1\" class=\"dataframe\">\n",
       "  <thead>\n",
       "    <tr style=\"text-align: right;\">\n",
       "      <th></th>\n",
       "      <th>CASE_STATUS</th>\n",
       "      <th>SOC_NAME</th>\n",
       "      <th>FULL_TIME_POSITION</th>\n",
       "      <th>PREVAILING_WAGE</th>\n",
       "      <th>YEAR</th>\n",
       "      <th>SOC_NAME1</th>\n",
       "      <th>SOC_N</th>\n",
       "    </tr>\n",
       "  </thead>\n",
       "  <tbody>\n",
       "    <tr>\n",
       "      <th>0</th>\n",
       "      <td>1</td>\n",
       "      <td>BIOCHEMISTS AND BIOPHYSICISTS</td>\n",
       "      <td>0</td>\n",
       "      <td>36067.0</td>\n",
       "      <td>2016.0</td>\n",
       "      <td>others</td>\n",
       "      <td>2</td>\n",
       "    </tr>\n",
       "    <tr>\n",
       "      <th>1</th>\n",
       "      <td>1</td>\n",
       "      <td>CHIEF EXECUTIVES</td>\n",
       "      <td>1</td>\n",
       "      <td>242674.0</td>\n",
       "      <td>2016.0</td>\n",
       "      <td>others</td>\n",
       "      <td>2</td>\n",
       "    </tr>\n",
       "    <tr>\n",
       "      <th>2</th>\n",
       "      <td>1</td>\n",
       "      <td>CHIEF EXECUTIVES</td>\n",
       "      <td>1</td>\n",
       "      <td>193066.0</td>\n",
       "      <td>2016.0</td>\n",
       "      <td>others</td>\n",
       "      <td>2</td>\n",
       "    </tr>\n",
       "    <tr>\n",
       "      <th>3</th>\n",
       "      <td>1</td>\n",
       "      <td>CHIEF EXECUTIVES</td>\n",
       "      <td>1</td>\n",
       "      <td>220314.0</td>\n",
       "      <td>2016.0</td>\n",
       "      <td>others</td>\n",
       "      <td>2</td>\n",
       "    </tr>\n",
       "    <tr>\n",
       "      <th>4</th>\n",
       "      <td>3</td>\n",
       "      <td>CHIEF EXECUTIVES</td>\n",
       "      <td>1</td>\n",
       "      <td>157518.4</td>\n",
       "      <td>2016.0</td>\n",
       "      <td>others</td>\n",
       "      <td>2</td>\n",
       "    </tr>\n",
       "    <tr>\n",
       "      <th>5</th>\n",
       "      <td>1</td>\n",
       "      <td>CHIEF EXECUTIVES</td>\n",
       "      <td>1</td>\n",
       "      <td>225000.0</td>\n",
       "      <td>2016.0</td>\n",
       "      <td>others</td>\n",
       "      <td>2</td>\n",
       "    </tr>\n",
       "    <tr>\n",
       "      <th>6</th>\n",
       "      <td>1</td>\n",
       "      <td>CHIEF EXECUTIVES</td>\n",
       "      <td>1</td>\n",
       "      <td>91021.0</td>\n",
       "      <td>2016.0</td>\n",
       "      <td>others</td>\n",
       "      <td>2</td>\n",
       "    </tr>\n",
       "    <tr>\n",
       "      <th>7</th>\n",
       "      <td>1</td>\n",
       "      <td>CHIEF EXECUTIVES</td>\n",
       "      <td>1</td>\n",
       "      <td>150000.0</td>\n",
       "      <td>2016.0</td>\n",
       "      <td>others</td>\n",
       "      <td>2</td>\n",
       "    </tr>\n",
       "    <tr>\n",
       "      <th>8</th>\n",
       "      <td>1</td>\n",
       "      <td>CHIEF EXECUTIVES</td>\n",
       "      <td>1</td>\n",
       "      <td>127546.0</td>\n",
       "      <td>2016.0</td>\n",
       "      <td>others</td>\n",
       "      <td>2</td>\n",
       "    </tr>\n",
       "    <tr>\n",
       "      <th>9</th>\n",
       "      <td>3</td>\n",
       "      <td>CHIEF EXECUTIVES</td>\n",
       "      <td>1</td>\n",
       "      <td>154648.0</td>\n",
       "      <td>2016.0</td>\n",
       "      <td>others</td>\n",
       "      <td>2</td>\n",
       "    </tr>\n",
       "    <tr>\n",
       "      <th>10</th>\n",
       "      <td>1</td>\n",
       "      <td>CHIEF EXECUTIVES</td>\n",
       "      <td>1</td>\n",
       "      <td>182978.0</td>\n",
       "      <td>2016.0</td>\n",
       "      <td>others</td>\n",
       "      <td>2</td>\n",
       "    </tr>\n",
       "    <tr>\n",
       "      <th>11</th>\n",
       "      <td>1</td>\n",
       "      <td>CHIEF EXECUTIVES</td>\n",
       "      <td>1</td>\n",
       "      <td>163717.0</td>\n",
       "      <td>2016.0</td>\n",
       "      <td>others</td>\n",
       "      <td>2</td>\n",
       "    </tr>\n",
       "    <tr>\n",
       "      <th>12</th>\n",
       "      <td>1</td>\n",
       "      <td>CHIEF EXECUTIVES</td>\n",
       "      <td>1</td>\n",
       "      <td>203860.8</td>\n",
       "      <td>2016.0</td>\n",
       "      <td>others</td>\n",
       "      <td>2</td>\n",
       "    </tr>\n",
       "    <tr>\n",
       "      <th>13</th>\n",
       "      <td>1</td>\n",
       "      <td>CHIEF EXECUTIVES</td>\n",
       "      <td>1</td>\n",
       "      <td>252637.0</td>\n",
       "      <td>2016.0</td>\n",
       "      <td>others</td>\n",
       "      <td>2</td>\n",
       "    </tr>\n",
       "    <tr>\n",
       "      <th>14</th>\n",
       "      <td>1</td>\n",
       "      <td>CHIEF EXECUTIVES</td>\n",
       "      <td>1</td>\n",
       "      <td>105914.0</td>\n",
       "      <td>2016.0</td>\n",
       "      <td>others</td>\n",
       "      <td>2</td>\n",
       "    </tr>\n",
       "    <tr>\n",
       "      <th>15</th>\n",
       "      <td>1</td>\n",
       "      <td>CHIEF EXECUTIVES</td>\n",
       "      <td>1</td>\n",
       "      <td>153046.0</td>\n",
       "      <td>2016.0</td>\n",
       "      <td>others</td>\n",
       "      <td>2</td>\n",
       "    </tr>\n",
       "    <tr>\n",
       "      <th>16</th>\n",
       "      <td>1</td>\n",
       "      <td>FINANCIAL MANAGERS</td>\n",
       "      <td>1</td>\n",
       "      <td>90834.0</td>\n",
       "      <td>2016.0</td>\n",
       "      <td>others</td>\n",
       "      <td>2</td>\n",
       "    </tr>\n",
       "    <tr>\n",
       "      <th>17</th>\n",
       "      <td>1</td>\n",
       "      <td>CHIEF EXECUTIVES</td>\n",
       "      <td>1</td>\n",
       "      <td>164050.0</td>\n",
       "      <td>2016.0</td>\n",
       "      <td>others</td>\n",
       "      <td>2</td>\n",
       "    </tr>\n",
       "    <tr>\n",
       "      <th>18</th>\n",
       "      <td>0</td>\n",
       "      <td>CHIEF EXECUTIVES</td>\n",
       "      <td>1</td>\n",
       "      <td>187200.0</td>\n",
       "      <td>2016.0</td>\n",
       "      <td>others</td>\n",
       "      <td>2</td>\n",
       "    </tr>\n",
       "    <tr>\n",
       "      <th>19</th>\n",
       "      <td>0</td>\n",
       "      <td>CHIEF EXECUTIVES</td>\n",
       "      <td>1</td>\n",
       "      <td>241842.0</td>\n",
       "      <td>2016.0</td>\n",
       "      <td>others</td>\n",
       "      <td>2</td>\n",
       "    </tr>\n",
       "  </tbody>\n",
       "</table>\n",
       "</div>"
      ],
      "text/plain": [
       "    CASE_STATUS                       SOC_NAME  FULL_TIME_POSITION  \\\n",
       "0             1  BIOCHEMISTS AND BIOPHYSICISTS                   0   \n",
       "1             1               CHIEF EXECUTIVES                   1   \n",
       "2             1               CHIEF EXECUTIVES                   1   \n",
       "3             1               CHIEF EXECUTIVES                   1   \n",
       "4             3               CHIEF EXECUTIVES                   1   \n",
       "5             1               CHIEF EXECUTIVES                   1   \n",
       "6             1               CHIEF EXECUTIVES                   1   \n",
       "7             1               CHIEF EXECUTIVES                   1   \n",
       "8             1               CHIEF EXECUTIVES                   1   \n",
       "9             3               CHIEF EXECUTIVES                   1   \n",
       "10            1               CHIEF EXECUTIVES                   1   \n",
       "11            1               CHIEF EXECUTIVES                   1   \n",
       "12            1               CHIEF EXECUTIVES                   1   \n",
       "13            1               CHIEF EXECUTIVES                   1   \n",
       "14            1               CHIEF EXECUTIVES                   1   \n",
       "15            1               CHIEF EXECUTIVES                   1   \n",
       "16            1             FINANCIAL MANAGERS                   1   \n",
       "17            1               CHIEF EXECUTIVES                   1   \n",
       "18            0               CHIEF EXECUTIVES                   1   \n",
       "19            0               CHIEF EXECUTIVES                   1   \n",
       "\n",
       "    PREVAILING_WAGE    YEAR SOC_NAME1  SOC_N  \n",
       "0           36067.0  2016.0    others      2  \n",
       "1          242674.0  2016.0    others      2  \n",
       "2          193066.0  2016.0    others      2  \n",
       "3          220314.0  2016.0    others      2  \n",
       "4          157518.4  2016.0    others      2  \n",
       "5          225000.0  2016.0    others      2  \n",
       "6           91021.0  2016.0    others      2  \n",
       "7          150000.0  2016.0    others      2  \n",
       "8          127546.0  2016.0    others      2  \n",
       "9          154648.0  2016.0    others      2  \n",
       "10         182978.0  2016.0    others      2  \n",
       "11         163717.0  2016.0    others      2  \n",
       "12         203860.8  2016.0    others      2  \n",
       "13         252637.0  2016.0    others      2  \n",
       "14         105914.0  2016.0    others      2  \n",
       "15         153046.0  2016.0    others      2  \n",
       "16          90834.0  2016.0    others      2  \n",
       "17         164050.0  2016.0    others      2  \n",
       "18         187200.0  2016.0    others      2  \n",
       "19         241842.0  2016.0    others      2  "
      ]
     },
     "execution_count": 46,
     "metadata": {},
     "output_type": "execute_result"
    }
   ],
   "source": [
    "data.head(20)"
   ]
  },
  {
   "cell_type": "code",
   "execution_count": null,
   "id": "1670d3f8",
   "metadata": {},
   "outputs": [
    {
     "data": {
      "text/plain": [
       "array([[0.0, 0.0, 0.0, ..., 36067.0, 'others', 2],\n",
       "       [0.0, 0.0, 0.0, ..., 242674.0, 'others', 2],\n",
       "       [0.0, 0.0, 0.0, ..., 193066.0, 'others', 2],\n",
       "       ...,\n",
       "       [0.0, 0.0, 0.0, ..., 65021.0, 'others', 2],\n",
       "       [0.0, 0.0, 0.0, ..., 65021.0, 'others', 2],\n",
       "       [0.0, 0.0, 0.0, ..., 65021.0, 'others', 2]], dtype=object)"
      ]
     },
     "execution_count": 47,
     "metadata": {},
     "output_type": "execute_result"
    }
   ],
   "source": [
    "from sklearn.compose import ColumnTransformer\n",
    "from sklearn.preprocessing import OneHotEncoder\n",
    "ct = ColumnTransformer([(\"oh\",OneHotEncoder(),[4])],remainder=\"passthrough\")\n",
    "x = ct.fit_transform(data)\n",
    "x"
   ]
  },
  {
   "cell_type": "code",
   "execution_count": null,
   "id": "5f03f7fc",
   "metadata": {},
   "outputs": [
    {
     "data": {
      "text/plain": [
       "array([[0.0, 0.0, 0.0, ..., 36067.0, 'others', 2],\n",
       "       [0.0, 0.0, 0.0, ..., 242674.0, 'others', 2],\n",
       "       [0.0, 0.0, 0.0, ..., 193066.0, 'others', 2],\n",
       "       ...,\n",
       "       [0.0, 0.0, 0.0, ..., 65021.0, 'others', 2],\n",
       "       [0.0, 0.0, 0.0, ..., 65021.0, 'others', 2],\n",
       "       [0.0, 0.0, 0.0, ..., 65021.0, 'others', 2]], dtype=object)"
      ]
     },
     "execution_count": 48,
     "metadata": {},
     "output_type": "execute_result"
    }
   ],
   "source": [
    "x = x[:,1:]\n",
    "x"
   ]
  },
  {
   "cell_type": "code",
   "execution_count": null,
   "id": "569a455e",
   "metadata": {},
   "outputs": [
    {
     "data": {
      "text/plain": [
       "array([[0.0, 0.0, 1.0, ..., 36067.0, 2016.0, 2],\n",
       "       [0.0, 0.0, 1.0, ..., 242674.0, 2016.0, 2],\n",
       "       [0.0, 0.0, 1.0, ..., 193066.0, 2016.0, 2],\n",
       "       ...,\n",
       "       [0.0, 0.0, 1.0, ..., 65021.0, 2016.0, 2],\n",
       "       [0.0, 0.0, 1.0, ..., 65021.0, 2016.0, 2],\n",
       "       [0.0, 0.0, 1.0, ..., 65021.0, 2016.0, 2]], dtype=object)"
      ]
     },
     "execution_count": 49,
     "metadata": {},
     "output_type": "execute_result"
    }
   ],
   "source": [
    "ct2 = ColumnTransformer([(\"oh\",OneHotEncoder(),[5])],remainder=\"passthrough\")\n",
    "x = ct2.fit_transform(data)\n",
    "x"
   ]
  },
  {
   "cell_type": "code",
   "execution_count": null,
   "id": "19d6dc77",
   "metadata": {},
   "outputs": [
    {
     "data": {
      "text/plain": [
       "array([[0.0, 1.0, 1, ..., 36067.0, 2016.0, 2],\n",
       "       [0.0, 1.0, 1, ..., 242674.0, 2016.0, 2],\n",
       "       [0.0, 1.0, 1, ..., 193066.0, 2016.0, 2],\n",
       "       ...,\n",
       "       [0.0, 1.0, 0, ..., 65021.0, 2016.0, 2],\n",
       "       [0.0, 1.0, 0, ..., 65021.0, 2016.0, 2],\n",
       "       [0.0, 1.0, 0, ..., 65021.0, 2016.0, 2]], dtype=object)"
      ]
     },
     "execution_count": 50,
     "metadata": {},
     "output_type": "execute_result"
    }
   ],
   "source": [
    "x = x[:,1:]\n",
    "x"
   ]
  },
  {
   "cell_type": "code",
   "execution_count": null,
   "id": "c84801f0",
   "metadata": {},
   "outputs": [
    {
     "data": {
      "text/plain": [
       "['tranform']"
      ]
     },
     "execution_count": 51,
     "metadata": {},
     "output_type": "execute_result"
    }
   ],
   "source": [
    "import joblib\n",
    "joblib.dump(ct,'tranform')"
   ]
  },
  {
   "cell_type": "code",
   "execution_count": null,
   "id": "9bd90124",
   "metadata": {},
   "outputs": [
    {
     "data": {
      "text/plain": [
       "['tranform2']"
      ]
     },
     "execution_count": 52,
     "metadata": {},
     "output_type": "execute_result"
    }
   ],
   "source": [
    "import joblib\n",
    "joblib.dump(ct2,'tranform2')"
   ]
  },
  {
   "cell_type": "code",
   "execution_count": null,
   "id": "3c94b63e",
   "metadata": {},
   "outputs": [
    {
     "data": {
      "text/html": [
       "<div>\n",
       "<style scoped>\n",
       "    .dataframe tbody tr th:only-of-type {\n",
       "        vertical-align: middle;\n",
       "    }\n",
       "\n",
       "    .dataframe tbody tr th {\n",
       "        vertical-align: top;\n",
       "    }\n",
       "\n",
       "    .dataframe thead th {\n",
       "        text-align: right;\n",
       "    }\n",
       "</style>\n",
       "<table border=\"1\" class=\"dataframe\">\n",
       "  <thead>\n",
       "    <tr style=\"text-align: right;\">\n",
       "      <th></th>\n",
       "      <th>CASE_STATUS</th>\n",
       "      <th>SOC_NAME</th>\n",
       "      <th>FULL_TIME_POSITION</th>\n",
       "      <th>PREVAILING_WAGE</th>\n",
       "      <th>YEAR</th>\n",
       "      <th>SOC_NAME1</th>\n",
       "      <th>SOC_N</th>\n",
       "    </tr>\n",
       "  </thead>\n",
       "  <tbody>\n",
       "    <tr>\n",
       "      <th>0</th>\n",
       "      <td>1</td>\n",
       "      <td>BIOCHEMISTS AND BIOPHYSICISTS</td>\n",
       "      <td>0</td>\n",
       "      <td>36067.0</td>\n",
       "      <td>2016.0</td>\n",
       "      <td>others</td>\n",
       "      <td>2</td>\n",
       "    </tr>\n",
       "    <tr>\n",
       "      <th>1</th>\n",
       "      <td>1</td>\n",
       "      <td>CHIEF EXECUTIVES</td>\n",
       "      <td>1</td>\n",
       "      <td>242674.0</td>\n",
       "      <td>2016.0</td>\n",
       "      <td>others</td>\n",
       "      <td>2</td>\n",
       "    </tr>\n",
       "    <tr>\n",
       "      <th>2</th>\n",
       "      <td>1</td>\n",
       "      <td>CHIEF EXECUTIVES</td>\n",
       "      <td>1</td>\n",
       "      <td>193066.0</td>\n",
       "      <td>2016.0</td>\n",
       "      <td>others</td>\n",
       "      <td>2</td>\n",
       "    </tr>\n",
       "    <tr>\n",
       "      <th>3</th>\n",
       "      <td>1</td>\n",
       "      <td>CHIEF EXECUTIVES</td>\n",
       "      <td>1</td>\n",
       "      <td>220314.0</td>\n",
       "      <td>2016.0</td>\n",
       "      <td>others</td>\n",
       "      <td>2</td>\n",
       "    </tr>\n",
       "    <tr>\n",
       "      <th>4</th>\n",
       "      <td>3</td>\n",
       "      <td>CHIEF EXECUTIVES</td>\n",
       "      <td>1</td>\n",
       "      <td>157518.4</td>\n",
       "      <td>2016.0</td>\n",
       "      <td>others</td>\n",
       "      <td>2</td>\n",
       "    </tr>\n",
       "    <tr>\n",
       "      <th>...</th>\n",
       "      <td>...</td>\n",
       "      <td>...</td>\n",
       "      <td>...</td>\n",
       "      <td>...</td>\n",
       "      <td>...</td>\n",
       "      <td>...</td>\n",
       "      <td>...</td>\n",
       "    </tr>\n",
       "    <tr>\n",
       "      <th>3002453</th>\n",
       "      <td>0</td>\n",
       "      <td>Computer Systems Analysts</td>\n",
       "      <td>1</td>\n",
       "      <td>65021.0</td>\n",
       "      <td>2016.0</td>\n",
       "      <td>others</td>\n",
       "      <td>2</td>\n",
       "    </tr>\n",
       "    <tr>\n",
       "      <th>3002454</th>\n",
       "      <td>0</td>\n",
       "      <td>Computer Systems Analysts</td>\n",
       "      <td>1</td>\n",
       "      <td>65021.0</td>\n",
       "      <td>2016.0</td>\n",
       "      <td>others</td>\n",
       "      <td>2</td>\n",
       "    </tr>\n",
       "    <tr>\n",
       "      <th>3002455</th>\n",
       "      <td>0</td>\n",
       "      <td>Computer Systems Analysts</td>\n",
       "      <td>1</td>\n",
       "      <td>65021.0</td>\n",
       "      <td>2016.0</td>\n",
       "      <td>others</td>\n",
       "      <td>2</td>\n",
       "    </tr>\n",
       "    <tr>\n",
       "      <th>3002456</th>\n",
       "      <td>0</td>\n",
       "      <td>Computer Systems Analysts</td>\n",
       "      <td>1</td>\n",
       "      <td>65021.0</td>\n",
       "      <td>2016.0</td>\n",
       "      <td>others</td>\n",
       "      <td>2</td>\n",
       "    </tr>\n",
       "    <tr>\n",
       "      <th>3002457</th>\n",
       "      <td>0</td>\n",
       "      <td>Computer Systems Analysts</td>\n",
       "      <td>1</td>\n",
       "      <td>65021.0</td>\n",
       "      <td>2016.0</td>\n",
       "      <td>others</td>\n",
       "      <td>2</td>\n",
       "    </tr>\n",
       "  </tbody>\n",
       "</table>\n",
       "<p>3002458 rows × 7 columns</p>\n",
       "</div>"
      ],
      "text/plain": [
       "         CASE_STATUS                       SOC_NAME  FULL_TIME_POSITION  \\\n",
       "0                  1  BIOCHEMISTS AND BIOPHYSICISTS                   0   \n",
       "1                  1               CHIEF EXECUTIVES                   1   \n",
       "2                  1               CHIEF EXECUTIVES                   1   \n",
       "3                  1               CHIEF EXECUTIVES                   1   \n",
       "4                  3               CHIEF EXECUTIVES                   1   \n",
       "...              ...                            ...                 ...   \n",
       "3002453            0      Computer Systems Analysts                   1   \n",
       "3002454            0      Computer Systems Analysts                   1   \n",
       "3002455            0      Computer Systems Analysts                   1   \n",
       "3002456            0      Computer Systems Analysts                   1   \n",
       "3002457            0      Computer Systems Analysts                   1   \n",
       "\n",
       "         PREVAILING_WAGE    YEAR SOC_NAME1  SOC_N  \n",
       "0                36067.0  2016.0    others      2  \n",
       "1               242674.0  2016.0    others      2  \n",
       "2               193066.0  2016.0    others      2  \n",
       "3               220314.0  2016.0    others      2  \n",
       "4               157518.4  2016.0    others      2  \n",
       "...                  ...     ...       ...    ...  \n",
       "3002453          65021.0  2016.0    others      2  \n",
       "3002454          65021.0  2016.0    others      2  \n",
       "3002455          65021.0  2016.0    others      2  \n",
       "3002456          65021.0  2016.0    others      2  \n",
       "3002457          65021.0  2016.0    others      2  \n",
       "\n",
       "[3002458 rows x 7 columns]"
      ]
     },
     "execution_count": 53,
     "metadata": {},
     "output_type": "execute_result"
    }
   ],
   "source": [
    "data"
   ]
  },
  {
   "cell_type": "code",
   "execution_count": null,
   "id": "aef63989",
   "metadata": {},
   "outputs": [],
   "source": [
    "data = data.drop(['SOC_NAME','SOC_NAME1'],axis=1)"
   ]
  },
  {
   "cell_type": "code",
   "execution_count": null,
   "id": "83c03dd3",
   "metadata": {},
   "outputs": [
    {
     "data": {
      "text/html": [
       "<div>\n",
       "<style scoped>\n",
       "    .dataframe tbody tr th:only-of-type {\n",
       "        vertical-align: middle;\n",
       "    }\n",
       "\n",
       "    .dataframe tbody tr th {\n",
       "        vertical-align: top;\n",
       "    }\n",
       "\n",
       "    .dataframe thead th {\n",
       "        text-align: right;\n",
       "    }\n",
       "</style>\n",
       "<table border=\"1\" class=\"dataframe\">\n",
       "  <thead>\n",
       "    <tr style=\"text-align: right;\">\n",
       "      <th></th>\n",
       "      <th>CASE_STATUS</th>\n",
       "      <th>FULL_TIME_POSITION</th>\n",
       "      <th>PREVAILING_WAGE</th>\n",
       "      <th>YEAR</th>\n",
       "      <th>SOC_N</th>\n",
       "    </tr>\n",
       "  </thead>\n",
       "  <tbody>\n",
       "    <tr>\n",
       "      <th>0</th>\n",
       "      <td>1</td>\n",
       "      <td>0</td>\n",
       "      <td>36067.0</td>\n",
       "      <td>2016.0</td>\n",
       "      <td>2</td>\n",
       "    </tr>\n",
       "    <tr>\n",
       "      <th>1</th>\n",
       "      <td>1</td>\n",
       "      <td>1</td>\n",
       "      <td>242674.0</td>\n",
       "      <td>2016.0</td>\n",
       "      <td>2</td>\n",
       "    </tr>\n",
       "    <tr>\n",
       "      <th>2</th>\n",
       "      <td>1</td>\n",
       "      <td>1</td>\n",
       "      <td>193066.0</td>\n",
       "      <td>2016.0</td>\n",
       "      <td>2</td>\n",
       "    </tr>\n",
       "    <tr>\n",
       "      <th>3</th>\n",
       "      <td>1</td>\n",
       "      <td>1</td>\n",
       "      <td>220314.0</td>\n",
       "      <td>2016.0</td>\n",
       "      <td>2</td>\n",
       "    </tr>\n",
       "    <tr>\n",
       "      <th>4</th>\n",
       "      <td>3</td>\n",
       "      <td>1</td>\n",
       "      <td>157518.4</td>\n",
       "      <td>2016.0</td>\n",
       "      <td>2</td>\n",
       "    </tr>\n",
       "    <tr>\n",
       "      <th>...</th>\n",
       "      <td>...</td>\n",
       "      <td>...</td>\n",
       "      <td>...</td>\n",
       "      <td>...</td>\n",
       "      <td>...</td>\n",
       "    </tr>\n",
       "    <tr>\n",
       "      <th>3002453</th>\n",
       "      <td>0</td>\n",
       "      <td>1</td>\n",
       "      <td>65021.0</td>\n",
       "      <td>2016.0</td>\n",
       "      <td>2</td>\n",
       "    </tr>\n",
       "    <tr>\n",
       "      <th>3002454</th>\n",
       "      <td>0</td>\n",
       "      <td>1</td>\n",
       "      <td>65021.0</td>\n",
       "      <td>2016.0</td>\n",
       "      <td>2</td>\n",
       "    </tr>\n",
       "    <tr>\n",
       "      <th>3002455</th>\n",
       "      <td>0</td>\n",
       "      <td>1</td>\n",
       "      <td>65021.0</td>\n",
       "      <td>2016.0</td>\n",
       "      <td>2</td>\n",
       "    </tr>\n",
       "    <tr>\n",
       "      <th>3002456</th>\n",
       "      <td>0</td>\n",
       "      <td>1</td>\n",
       "      <td>65021.0</td>\n",
       "      <td>2016.0</td>\n",
       "      <td>2</td>\n",
       "    </tr>\n",
       "    <tr>\n",
       "      <th>3002457</th>\n",
       "      <td>0</td>\n",
       "      <td>1</td>\n",
       "      <td>65021.0</td>\n",
       "      <td>2016.0</td>\n",
       "      <td>2</td>\n",
       "    </tr>\n",
       "  </tbody>\n",
       "</table>\n",
       "<p>3002458 rows × 5 columns</p>\n",
       "</div>"
      ],
      "text/plain": [
       "         CASE_STATUS  FULL_TIME_POSITION  PREVAILING_WAGE    YEAR  SOC_N\n",
       "0                  1                   0          36067.0  2016.0      2\n",
       "1                  1                   1         242674.0  2016.0      2\n",
       "2                  1                   1         193066.0  2016.0      2\n",
       "3                  1                   1         220314.0  2016.0      2\n",
       "4                  3                   1         157518.4  2016.0      2\n",
       "...              ...                 ...              ...     ...    ...\n",
       "3002453            0                   1          65021.0  2016.0      2\n",
       "3002454            0                   1          65021.0  2016.0      2\n",
       "3002455            0                   1          65021.0  2016.0      2\n",
       "3002456            0                   1          65021.0  2016.0      2\n",
       "3002457            0                   1          65021.0  2016.0      2\n",
       "\n",
       "[3002458 rows x 5 columns]"
      ]
     },
     "execution_count": 55,
     "metadata": {},
     "output_type": "execute_result"
    }
   ],
   "source": [
    "data"
   ]
  },
  {
   "cell_type": "markdown",
   "id": "22aad7ed",
   "metadata": {},
   "source": [
    "# Correlation Table and Heatmap"
   ]
  },
  {
   "cell_type": "code",
   "execution_count": null,
   "id": "a72e694b",
   "metadata": {},
   "outputs": [
    {
     "data": {
      "text/html": [
       "<div>\n",
       "<style scoped>\n",
       "    .dataframe tbody tr th:only-of-type {\n",
       "        vertical-align: middle;\n",
       "    }\n",
       "\n",
       "    .dataframe tbody tr th {\n",
       "        vertical-align: top;\n",
       "    }\n",
       "\n",
       "    .dataframe thead th {\n",
       "        text-align: right;\n",
       "    }\n",
       "</style>\n",
       "<table border=\"1\" class=\"dataframe\">\n",
       "  <thead>\n",
       "    <tr style=\"text-align: right;\">\n",
       "      <th></th>\n",
       "      <th>CASE_STATUS</th>\n",
       "      <th>FULL_TIME_POSITION</th>\n",
       "      <th>PREVAILING_WAGE</th>\n",
       "      <th>YEAR</th>\n",
       "      <th>SOC_N</th>\n",
       "    </tr>\n",
       "  </thead>\n",
       "  <tbody>\n",
       "    <tr>\n",
       "      <th>CASE_STATUS</th>\n",
       "      <td>1.000000</td>\n",
       "      <td>-0.010730</td>\n",
       "      <td>0.040770</td>\n",
       "      <td>-0.039020</td>\n",
       "      <td>-0.001968</td>\n",
       "    </tr>\n",
       "    <tr>\n",
       "      <th>FULL_TIME_POSITION</th>\n",
       "      <td>-0.010730</td>\n",
       "      <td>1.000000</td>\n",
       "      <td>0.005977</td>\n",
       "      <td>-0.388607</td>\n",
       "      <td>-0.000214</td>\n",
       "    </tr>\n",
       "    <tr>\n",
       "      <th>PREVAILING_WAGE</th>\n",
       "      <td>0.040770</td>\n",
       "      <td>0.005977</td>\n",
       "      <td>1.000000</td>\n",
       "      <td>-0.007856</td>\n",
       "      <td>0.000044</td>\n",
       "    </tr>\n",
       "    <tr>\n",
       "      <th>YEAR</th>\n",
       "      <td>-0.039020</td>\n",
       "      <td>-0.388607</td>\n",
       "      <td>-0.007856</td>\n",
       "      <td>1.000000</td>\n",
       "      <td>0.001992</td>\n",
       "    </tr>\n",
       "    <tr>\n",
       "      <th>SOC_N</th>\n",
       "      <td>-0.001968</td>\n",
       "      <td>-0.000214</td>\n",
       "      <td>0.000044</td>\n",
       "      <td>0.001992</td>\n",
       "      <td>1.000000</td>\n",
       "    </tr>\n",
       "  </tbody>\n",
       "</table>\n",
       "</div>"
      ],
      "text/plain": [
       "                    CASE_STATUS  FULL_TIME_POSITION  PREVAILING_WAGE  \\\n",
       "CASE_STATUS            1.000000           -0.010730         0.040770   \n",
       "FULL_TIME_POSITION    -0.010730            1.000000         0.005977   \n",
       "PREVAILING_WAGE        0.040770            0.005977         1.000000   \n",
       "YEAR                  -0.039020           -0.388607        -0.007856   \n",
       "SOC_N                 -0.001968           -0.000214         0.000044   \n",
       "\n",
       "                        YEAR     SOC_N  \n",
       "CASE_STATUS        -0.039020 -0.001968  \n",
       "FULL_TIME_POSITION -0.388607 -0.000214  \n",
       "PREVAILING_WAGE    -0.007856  0.000044  \n",
       "YEAR                1.000000  0.001992  \n",
       "SOC_N               0.001992  1.000000  "
      ]
     },
     "execution_count": 56,
     "metadata": {},
     "output_type": "execute_result"
    }
   ],
   "source": [
    "data.corr()"
   ]
  },
  {
   "cell_type": "code",
   "execution_count": null,
   "id": "98737222",
   "metadata": {},
   "outputs": [
    {
     "data": {
      "text/plain": [
       "<AxesSubplot:>"
      ]
     },
     "execution_count": 57,
     "metadata": {},
     "output_type": "execute_result"
    },
    {
     "data": {
      "image/png": "[encoded data removed]",
      "text/plain": [
       "<Figure size 640x480 with 2 Axes>"
      ]
     },
     "metadata": {},
     "output_type": "display_data"
    }
   ],
   "source": [
    "sns.heatmap(data.corr(), annot=True, cmap=\"RdYlGn\", annot_kws={\"size\":15})"
   ]
  },
  {
   "cell_type": "markdown",
   "id": "98d84273",
   "metadata": {},
   "source": [
    "# Removal of outliers"
   ]
  },
  {
   "cell_type": "code",
   "execution_count": null,
   "id": "1fc14d51",
   "metadata": {},
   "outputs": [
    {
     "data": {
      "text/html": [
       "<div>\n",
       "<style scoped>\n",
       "    .dataframe tbody tr th:only-of-type {\n",
       "        vertical-align: middle;\n",
       "    }\n",
       "\n",
       "    .dataframe tbody tr th {\n",
       "        vertical-align: top;\n",
       "    }\n",
       "\n",
       "    .dataframe thead th {\n",
       "        text-align: right;\n",
       "    }\n",
       "</style>\n",
       "<table border=\"1\" class=\"dataframe\">\n",
       "  <thead>\n",
       "    <tr style=\"text-align: right;\">\n",
       "      <th></th>\n",
       "      <th>CASE_STATUS</th>\n",
       "      <th>FULL_TIME_POSITION</th>\n",
       "      <th>PREVAILING_WAGE</th>\n",
       "      <th>YEAR</th>\n",
       "      <th>SOC_N</th>\n",
       "    </tr>\n",
       "  </thead>\n",
       "  <tbody>\n",
       "    <tr>\n",
       "      <th>0</th>\n",
       "      <td>1.212061</td>\n",
       "      <td>2.458157</td>\n",
       "      <td>0.020979</td>\n",
       "      <td>1.276302</td>\n",
       "      <td>0.002036</td>\n",
       "    </tr>\n",
       "    <tr>\n",
       "      <th>1</th>\n",
       "      <td>1.212061</td>\n",
       "      <td>0.406809</td>\n",
       "      <td>0.018095</td>\n",
       "      <td>1.276302</td>\n",
       "      <td>0.002036</td>\n",
       "    </tr>\n",
       "    <tr>\n",
       "      <th>2</th>\n",
       "      <td>1.212061</td>\n",
       "      <td>0.406809</td>\n",
       "      <td>0.008713</td>\n",
       "      <td>1.276302</td>\n",
       "      <td>0.002036</td>\n",
       "    </tr>\n",
       "    <tr>\n",
       "      <th>3</th>\n",
       "      <td>1.212061</td>\n",
       "      <td>0.406809</td>\n",
       "      <td>0.013866</td>\n",
       "      <td>1.276302</td>\n",
       "      <td>0.002036</td>\n",
       "    </tr>\n",
       "    <tr>\n",
       "      <th>4</th>\n",
       "      <td>4.320287</td>\n",
       "      <td>0.406809</td>\n",
       "      <td>0.001990</td>\n",
       "      <td>1.276302</td>\n",
       "      <td>0.002036</td>\n",
       "    </tr>\n",
       "    <tr>\n",
       "      <th>...</th>\n",
       "      <td>...</td>\n",
       "      <td>...</td>\n",
       "      <td>...</td>\n",
       "      <td>...</td>\n",
       "      <td>...</td>\n",
       "    </tr>\n",
       "    <tr>\n",
       "      <th>3002453</th>\n",
       "      <td>0.342051</td>\n",
       "      <td>0.406809</td>\n",
       "      <td>0.015503</td>\n",
       "      <td>1.276302</td>\n",
       "      <td>0.002036</td>\n",
       "    </tr>\n",
       "    <tr>\n",
       "      <th>3002454</th>\n",
       "      <td>0.342051</td>\n",
       "      <td>0.406809</td>\n",
       "      <td>0.015503</td>\n",
       "      <td>1.276302</td>\n",
       "      <td>0.002036</td>\n",
       "    </tr>\n",
       "    <tr>\n",
       "      <th>3002455</th>\n",
       "      <td>0.342051</td>\n",
       "      <td>0.406809</td>\n",
       "      <td>0.015503</td>\n",
       "      <td>1.276302</td>\n",
       "      <td>0.002036</td>\n",
       "    </tr>\n",
       "    <tr>\n",
       "      <th>3002456</th>\n",
       "      <td>0.342051</td>\n",
       "      <td>0.406809</td>\n",
       "      <td>0.015503</td>\n",
       "      <td>1.276302</td>\n",
       "      <td>0.002036</td>\n",
       "    </tr>\n",
       "    <tr>\n",
       "      <th>3002457</th>\n",
       "      <td>0.342051</td>\n",
       "      <td>0.406809</td>\n",
       "      <td>0.015503</td>\n",
       "      <td>1.276302</td>\n",
       "      <td>0.002036</td>\n",
       "    </tr>\n",
       "  </tbody>\n",
       "</table>\n",
       "<p>3002458 rows × 5 columns</p>\n",
       "</div>"
      ],
      "text/plain": [
       "         CASE_STATUS  FULL_TIME_POSITION  PREVAILING_WAGE      YEAR     SOC_N\n",
       "0           1.212061            2.458157         0.020979  1.276302  0.002036\n",
       "1           1.212061            0.406809         0.018095  1.276302  0.002036\n",
       "2           1.212061            0.406809         0.008713  1.276302  0.002036\n",
       "3           1.212061            0.406809         0.013866  1.276302  0.002036\n",
       "4           4.320287            0.406809         0.001990  1.276302  0.002036\n",
       "...              ...                 ...              ...       ...       ...\n",
       "3002453     0.342051            0.406809         0.015503  1.276302  0.002036\n",
       "3002454     0.342051            0.406809         0.015503  1.276302  0.002036\n",
       "3002455     0.342051            0.406809         0.015503  1.276302  0.002036\n",
       "3002456     0.342051            0.406809         0.015503  1.276302  0.002036\n",
       "3002457     0.342051            0.406809         0.015503  1.276302  0.002036\n",
       "\n",
       "[3002458 rows x 5 columns]"
      ]
     },
     "execution_count": 58,
     "metadata": {},
     "output_type": "execute_result"
    }
   ],
   "source": [
    "from scipy import stats\n",
    "z = np.abs(stats.zscore(data))\n",
    "z"
   ]
  },
  {
   "cell_type": "code",
   "execution_count": null,
   "id": "04ebcf47",
   "metadata": {},
   "outputs": [
    {
     "data": {
      "text/plain": [
       "(3002458, 5)"
      ]
     },
     "execution_count": 59,
     "metadata": {},
     "output_type": "execute_result"
    }
   ],
   "source": [
    "z.shape"
   ]
  },
  {
   "cell_type": "code",
   "execution_count": null,
   "id": "6f980909",
   "metadata": {},
   "outputs": [
    {
     "data": {
      "text/plain": [
       "(array([      4,       9,      69, ..., 3002442, 3002443, 3002444],\n",
       "       dtype=int64),\n",
       " array([0, 0, 0, ..., 0, 0, 0], dtype=int64))"
      ]
     },
     "execution_count": 60,
     "metadata": {},
     "output_type": "execute_result"
    }
   ],
   "source": [
    "threshold=3\n",
    "np.where(z>threshold)"
   ]
  },
  {
   "cell_type": "code",
   "execution_count": null,
   "id": "82919a85",
   "metadata": {},
   "outputs": [
    {
     "data": {
      "text/html": [
       "<div>\n",
       "<style scoped>\n",
       "    .dataframe tbody tr th:only-of-type {\n",
       "        vertical-align: middle;\n",
       "    }\n",
       "\n",
       "    .dataframe tbody tr th {\n",
       "        vertical-align: top;\n",
       "    }\n",
       "\n",
       "    .dataframe thead th {\n",
       "        text-align: right;\n",
       "    }\n",
       "</style>\n",
       "<table border=\"1\" class=\"dataframe\">\n",
       "  <thead>\n",
       "    <tr style=\"text-align: right;\">\n",
       "      <th></th>\n",
       "      <th>CASE_STATUS</th>\n",
       "      <th>FULL_TIME_POSITION</th>\n",
       "      <th>PREVAILING_WAGE</th>\n",
       "      <th>YEAR</th>\n",
       "      <th>SOC_N</th>\n",
       "    </tr>\n",
       "  </thead>\n",
       "  <tbody>\n",
       "    <tr>\n",
       "      <th>0</th>\n",
       "      <td>1</td>\n",
       "      <td>0</td>\n",
       "      <td>36067.0</td>\n",
       "      <td>2016.0</td>\n",
       "      <td>2</td>\n",
       "    </tr>\n",
       "    <tr>\n",
       "      <th>1</th>\n",
       "      <td>1</td>\n",
       "      <td>1</td>\n",
       "      <td>242674.0</td>\n",
       "      <td>2016.0</td>\n",
       "      <td>2</td>\n",
       "    </tr>\n",
       "    <tr>\n",
       "      <th>2</th>\n",
       "      <td>1</td>\n",
       "      <td>1</td>\n",
       "      <td>193066.0</td>\n",
       "      <td>2016.0</td>\n",
       "      <td>2</td>\n",
       "    </tr>\n",
       "    <tr>\n",
       "      <th>3</th>\n",
       "      <td>1</td>\n",
       "      <td>1</td>\n",
       "      <td>220314.0</td>\n",
       "      <td>2016.0</td>\n",
       "      <td>2</td>\n",
       "    </tr>\n",
       "    <tr>\n",
       "      <th>5</th>\n",
       "      <td>1</td>\n",
       "      <td>1</td>\n",
       "      <td>225000.0</td>\n",
       "      <td>2016.0</td>\n",
       "      <td>2</td>\n",
       "    </tr>\n",
       "    <tr>\n",
       "      <th>...</th>\n",
       "      <td>...</td>\n",
       "      <td>...</td>\n",
       "      <td>...</td>\n",
       "      <td>...</td>\n",
       "      <td>...</td>\n",
       "    </tr>\n",
       "    <tr>\n",
       "      <th>3002453</th>\n",
       "      <td>0</td>\n",
       "      <td>1</td>\n",
       "      <td>65021.0</td>\n",
       "      <td>2016.0</td>\n",
       "      <td>2</td>\n",
       "    </tr>\n",
       "    <tr>\n",
       "      <th>3002454</th>\n",
       "      <td>0</td>\n",
       "      <td>1</td>\n",
       "      <td>65021.0</td>\n",
       "      <td>2016.0</td>\n",
       "      <td>2</td>\n",
       "    </tr>\n",
       "    <tr>\n",
       "      <th>3002455</th>\n",
       "      <td>0</td>\n",
       "      <td>1</td>\n",
       "      <td>65021.0</td>\n",
       "      <td>2016.0</td>\n",
       "      <td>2</td>\n",
       "    </tr>\n",
       "    <tr>\n",
       "      <th>3002456</th>\n",
       "      <td>0</td>\n",
       "      <td>1</td>\n",
       "      <td>65021.0</td>\n",
       "      <td>2016.0</td>\n",
       "      <td>2</td>\n",
       "    </tr>\n",
       "    <tr>\n",
       "      <th>3002457</th>\n",
       "      <td>0</td>\n",
       "      <td>1</td>\n",
       "      <td>65021.0</td>\n",
       "      <td>2016.0</td>\n",
       "      <td>2</td>\n",
       "    </tr>\n",
       "  </tbody>\n",
       "</table>\n",
       "<p>2911081 rows × 5 columns</p>\n",
       "</div>"
      ],
      "text/plain": [
       "         CASE_STATUS  FULL_TIME_POSITION  PREVAILING_WAGE    YEAR  SOC_N\n",
       "0                  1                   0          36067.0  2016.0      2\n",
       "1                  1                   1         242674.0  2016.0      2\n",
       "2                  1                   1         193066.0  2016.0      2\n",
       "3                  1                   1         220314.0  2016.0      2\n",
       "5                  1                   1         225000.0  2016.0      2\n",
       "...              ...                 ...              ...     ...    ...\n",
       "3002453            0                   1          65021.0  2016.0      2\n",
       "3002454            0                   1          65021.0  2016.0      2\n",
       "3002455            0                   1          65021.0  2016.0      2\n",
       "3002456            0                   1          65021.0  2016.0      2\n",
       "3002457            0                   1          65021.0  2016.0      2\n",
       "\n",
       "[2911081 rows x 5 columns]"
      ]
     },
     "execution_count": 61,
     "metadata": {},
     "output_type": "execute_result"
    }
   ],
   "source": [
    "data_no_outliers=data[(z<=3).all(axis=1)]\n",
    "data_no_outliers"
   ]
  },
  {
   "cell_type": "code",
   "execution_count": null,
   "id": "6ca1227b",
   "metadata": {},
   "outputs": [
    {
     "data": {
      "text/plain": [
       "0    2615585\n",
       "1     202655\n",
       "2      92841\n",
       "Name: CASE_STATUS, dtype: int64"
      ]
     },
     "execution_count": 62,
     "metadata": {},
     "output_type": "execute_result"
    }
   ],
   "source": [
    "data_no_outliers[\"CASE_STATUS\"].value_counts()"
   ]
  },
  {
   "cell_type": "code",
   "execution_count": null,
   "id": "bd93fb8d",
   "metadata": {},
   "outputs": [
    {
     "data": {
      "text/plain": [
       "(2911081, 5)"
      ]
     },
     "execution_count": 63,
     "metadata": {},
     "output_type": "execute_result"
    }
   ],
   "source": [
    "data_no_outliers.shape"
   ]
  },
  {
   "cell_type": "code",
   "execution_count": null,
   "id": "06dec200",
   "metadata": {},
   "outputs": [
    {
     "data": {
      "text/plain": [
       "<AxesSubplot:ylabel='CASE_STATUS'>"
      ]
     },
     "execution_count": 64,
     "metadata": {},
     "output_type": "execute_result"
    },
    {
     "data": {
      "image/png": "[encoded data removed]",
      "text/plain": [
       "<Figure size 640x480 with 1 Axes>"
      ]
     },
     "metadata": {},
     "output_type": "display_data"
    }
   ],
   "source": [
    "data_no_outliers[\"CASE_STATUS\"].value_counts().plot.pie(autopct='%.2f')"
   ]
  },
  {
   "cell_type": "markdown",
   "id": "4be5f44c",
   "metadata": {},
   "source": [
    "# Splitting the dataset into x and y"
   ]
  },
  {
   "cell_type": "code",
   "execution_count": null,
   "id": "b903f386",
   "metadata": {},
   "outputs": [],
   "source": [
    "selcols=[\"FULL_TIME_POSITION\",\"PREVAILING_WAGE\",\"YEAR\",\"SOC_N\"]\n",
    "x=pd.DataFrame(data_no_outliers,columns=selcols)\n",
    "y=pd.DataFrame(data_no_outliers,columns=['CASE_STATUS'])"
   ]
  },
  {
   "cell_type": "code",
   "execution_count": null,
   "id": "b4648fba",
   "metadata": {},
   "outputs": [
    {
     "data": {
      "text/html": [
       "<div>\n",
       "<style scoped>\n",
       "    .dataframe tbody tr th:only-of-type {\n",
       "        vertical-align: middle;\n",
       "    }\n",
       "\n",
       "    .dataframe tbody tr th {\n",
       "        vertical-align: top;\n",
       "    }\n",
       "\n",
       "    .dataframe thead th {\n",
       "        text-align: right;\n",
       "    }\n",
       "</style>\n",
       "<table border=\"1\" class=\"dataframe\">\n",
       "  <thead>\n",
       "    <tr style=\"text-align: right;\">\n",
       "      <th></th>\n",
       "      <th>FULL_TIME_POSITION</th>\n",
       "      <th>PREVAILING_WAGE</th>\n",
       "      <th>YEAR</th>\n",
       "      <th>SOC_N</th>\n",
       "    </tr>\n",
       "  </thead>\n",
       "  <tbody>\n",
       "    <tr>\n",
       "      <th>0</th>\n",
       "      <td>0</td>\n",
       "      <td>36067.0</td>\n",
       "      <td>2016.0</td>\n",
       "      <td>2</td>\n",
       "    </tr>\n",
       "    <tr>\n",
       "      <th>1</th>\n",
       "      <td>1</td>\n",
       "      <td>242674.0</td>\n",
       "      <td>2016.0</td>\n",
       "      <td>2</td>\n",
       "    </tr>\n",
       "    <tr>\n",
       "      <th>2</th>\n",
       "      <td>1</td>\n",
       "      <td>193066.0</td>\n",
       "      <td>2016.0</td>\n",
       "      <td>2</td>\n",
       "    </tr>\n",
       "    <tr>\n",
       "      <th>3</th>\n",
       "      <td>1</td>\n",
       "      <td>220314.0</td>\n",
       "      <td>2016.0</td>\n",
       "      <td>2</td>\n",
       "    </tr>\n",
       "    <tr>\n",
       "      <th>5</th>\n",
       "      <td>1</td>\n",
       "      <td>225000.0</td>\n",
       "      <td>2016.0</td>\n",
       "      <td>2</td>\n",
       "    </tr>\n",
       "    <tr>\n",
       "      <th>...</th>\n",
       "      <td>...</td>\n",
       "      <td>...</td>\n",
       "      <td>...</td>\n",
       "      <td>...</td>\n",
       "    </tr>\n",
       "    <tr>\n",
       "      <th>3002453</th>\n",
       "      <td>1</td>\n",
       "      <td>65021.0</td>\n",
       "      <td>2016.0</td>\n",
       "      <td>2</td>\n",
       "    </tr>\n",
       "    <tr>\n",
       "      <th>3002454</th>\n",
       "      <td>1</td>\n",
       "      <td>65021.0</td>\n",
       "      <td>2016.0</td>\n",
       "      <td>2</td>\n",
       "    </tr>\n",
       "    <tr>\n",
       "      <th>3002455</th>\n",
       "      <td>1</td>\n",
       "      <td>65021.0</td>\n",
       "      <td>2016.0</td>\n",
       "      <td>2</td>\n",
       "    </tr>\n",
       "    <tr>\n",
       "      <th>3002456</th>\n",
       "      <td>1</td>\n",
       "      <td>65021.0</td>\n",
       "      <td>2016.0</td>\n",
       "      <td>2</td>\n",
       "    </tr>\n",
       "    <tr>\n",
       "      <th>3002457</th>\n",
       "      <td>1</td>\n",
       "      <td>65021.0</td>\n",
       "      <td>2016.0</td>\n",
       "      <td>2</td>\n",
       "    </tr>\n",
       "  </tbody>\n",
       "</table>\n",
       "<p>2911081 rows × 4 columns</p>\n",
       "</div>"
      ],
      "text/plain": [
       "         FULL_TIME_POSITION  PREVAILING_WAGE    YEAR  SOC_N\n",
       "0                         0          36067.0  2016.0      2\n",
       "1                         1         242674.0  2016.0      2\n",
       "2                         1         193066.0  2016.0      2\n",
       "3                         1         220314.0  2016.0      2\n",
       "5                         1         225000.0  2016.0      2\n",
       "...                     ...              ...     ...    ...\n",
       "3002453                   1          65021.0  2016.0      2\n",
       "3002454                   1          65021.0  2016.0      2\n",
       "3002455                   1          65021.0  2016.0      2\n",
       "3002456                   1          65021.0  2016.0      2\n",
       "3002457                   1          65021.0  2016.0      2\n",
       "\n",
       "[2911081 rows x 4 columns]"
      ]
     },
     "execution_count": 66,
     "metadata": {},
     "output_type": "execute_result"
    }
   ],
   "source": [
    "x"
   ]
  },
  {
   "cell_type": "code",
   "execution_count": null,
   "id": "dd198139",
   "metadata": {},
   "outputs": [
    {
     "data": {
      "text/html": [
       "<div>\n",
       "<style scoped>\n",
       "    .dataframe tbody tr th:only-of-type {\n",
       "        vertical-align: middle;\n",
       "    }\n",
       "\n",
       "    .dataframe tbody tr th {\n",
       "        vertical-align: top;\n",
       "    }\n",
       "\n",
       "    .dataframe thead th {\n",
       "        text-align: right;\n",
       "    }\n",
       "</style>\n",
       "<table border=\"1\" class=\"dataframe\">\n",
       "  <thead>\n",
       "    <tr style=\"text-align: right;\">\n",
       "      <th></th>\n",
       "      <th>CASE_STATUS</th>\n",
       "    </tr>\n",
       "  </thead>\n",
       "  <tbody>\n",
       "    <tr>\n",
       "      <th>0</th>\n",
       "      <td>1</td>\n",
       "    </tr>\n",
       "    <tr>\n",
       "      <th>1</th>\n",
       "      <td>1</td>\n",
       "    </tr>\n",
       "    <tr>\n",
       "      <th>2</th>\n",
       "      <td>1</td>\n",
       "    </tr>\n",
       "    <tr>\n",
       "      <th>3</th>\n",
       "      <td>1</td>\n",
       "    </tr>\n",
       "    <tr>\n",
       "      <th>5</th>\n",
       "      <td>1</td>\n",
       "    </tr>\n",
       "    <tr>\n",
       "      <th>...</th>\n",
       "      <td>...</td>\n",
       "    </tr>\n",
       "    <tr>\n",
       "      <th>3002453</th>\n",
       "      <td>0</td>\n",
       "    </tr>\n",
       "    <tr>\n",
       "      <th>3002454</th>\n",
       "      <td>0</td>\n",
       "    </tr>\n",
       "    <tr>\n",
       "      <th>3002455</th>\n",
       "      <td>0</td>\n",
       "    </tr>\n",
       "    <tr>\n",
       "      <th>3002456</th>\n",
       "      <td>0</td>\n",
       "    </tr>\n",
       "    <tr>\n",
       "      <th>3002457</th>\n",
       "      <td>0</td>\n",
       "    </tr>\n",
       "  </tbody>\n",
       "</table>\n",
       "<p>2911081 rows × 1 columns</p>\n",
       "</div>"
      ],
      "text/plain": [
       "         CASE_STATUS\n",
       "0                  1\n",
       "1                  1\n",
       "2                  1\n",
       "3                  1\n",
       "5                  1\n",
       "...              ...\n",
       "3002453            0\n",
       "3002454            0\n",
       "3002455            0\n",
       "3002456            0\n",
       "3002457            0\n",
       "\n",
       "[2911081 rows x 1 columns]"
      ]
     },
     "execution_count": 67,
     "metadata": {},
     "output_type": "execute_result"
    }
   ],
   "source": [
    "y"
   ]
  },
  {
   "cell_type": "markdown",
   "id": "2220829b",
   "metadata": {},
   "source": [
    "# Splitting data into train and test datasets"
   ]
  },
  {
   "cell_type": "code",
   "execution_count": null,
   "id": "0d9a0206",
   "metadata": {},
   "outputs": [
    {
     "name": "stdout",
     "output_type": "stream",
     "text": [
      "(2911081, 4)\n",
      "(2037756, 4)\n",
      "(873325, 4)\n",
      "(2037756, 1)\n",
      "(873325, 1)\n"
     ]
    }
   ],
   "source": [
    "from sklearn.model_selection import train_test_split\n",
    "\n",
    "x_train,x_test,y_train,y_test = train_test_split(x,y, test_size=0.3,random_state = 42)\n",
    "\n",
    "print(x.shape)\n",
    "print(x_train.shape)\n",
    "print(x_test.shape)\n",
    "print(y_train.shape)\n",
    "print(y_test.shape)"
   ]
  },
  {
   "cell_type": "code",
   "execution_count": null,
   "id": "1186478f",
   "metadata": {},
   "outputs": [
    {
     "data": {
      "text/plain": [
       "<AxesSubplot:ylabel='None'>"
      ]
     },
     "execution_count": 69,
     "metadata": {},
     "output_type": "execute_result"
    },
    {
     "data": {
      "image/png": "[encoded data removed]",
      "text/plain": [
       "<Figure size 640x480 with 1 Axes>"
      ]
     },
     "metadata": {},
     "output_type": "display_data"
    }
   ],
   "source": [
    "y_train.value_counts().plot.pie(autopct='%.2f')"
   ]
  },
  {
   "cell_type": "code",
   "execution_count": null,
   "id": "93f3ad31",
   "metadata": {},
   "outputs": [
    {
     "data": {
      "text/plain": [
       "CASE_STATUS\n",
       "0              1831140\n",
       "1               141665\n",
       "2                64951\n",
       "dtype: int64"
      ]
     },
     "execution_count": 70,
     "metadata": {},
     "output_type": "execute_result"
    }
   ],
   "source": [
    "y_train.value_counts()"
   ]
  },
  {
   "cell_type": "code",
   "execution_count": null,
   "id": "e90ed59f",
   "metadata": {},
   "outputs": [
    {
     "name": "stdout",
     "output_type": "stream",
     "text": [
      "Requirement already satisfied: imblearn in c:\\users\\balu2\\appdata\\roaming\\python\\python39\\site-packages (0.0)\n",
      "Requirement already satisfied: imbalanced-learn in c:\\users\\balu2\\appdata\\roaming\\python\\python39\\site-packages (from imblearn) (0.10.1)\n",
      "Requirement already satisfied: scikit-learn>=1.0.2 in c:\\users\\balu2\\anaconda3\\lib\\site-packages (from imbalanced-learn->imblearn) (1.0.2)\n",
      "Requirement already satisfied: joblib>=1.1.1 in c:\\users\\balu2\\appdata\\roaming\\python\\python39\\site-packages (from imbalanced-learn->imblearn) (1.2.0)\n",
      "Requirement already satisfied: numpy>=1.17.3 in c:\\users\\balu2\\anaconda3\\lib\\site-packages (from imbalanced-learn->imblearn) (1.21.5)\n",
      "Requirement already satisfied: threadpoolctl>=2.0.0 in c:\\users\\balu2\\anaconda3\\lib\\site-packages (from imbalanced-learn->imblearn) (2.2.0)\n",
      "Requirement already satisfied: scipy>=1.3.2 in c:\\users\\balu2\\anaconda3\\lib\\site-packages (from imbalanced-learn->imblearn) (1.9.1)\n",
      "Note: you may need to restart the kernel to use updated packages.\n"
     ]
    }
   ],
   "source": [
    "pip install imblearn --user"
   ]
  },
  {
   "cell_type": "code",
   "execution_count": null,
   "id": "e337a458",
   "metadata": {},
   "outputs": [],
   "source": [
    "from imblearn.over_sampling import SMOTE\n",
    "sm = SMOTE()"
   ]
  },
  {
   "cell_type": "code",
   "execution_count": null,
   "id": "773e80e8",
   "metadata": {},
   "outputs": [
    {
     "data": {
      "text/plain": [
       "{0: 1831140, 1: 141665, 2: 64951}"
      ]
     },
     "execution_count": 73,
     "metadata": {},
     "output_type": "execute_result"
    }
   ],
   "source": [
    "unique, count = np.unique(y_train,return_counts=True)\n",
    "y_train_dict_value_count = { k:v for (k,v) in zip(unique,count)}\n",
    "y_train_dict_value_count"
   ]
  },
  {
   "cell_type": "code",
   "execution_count": null,
   "id": "075e24d7",
   "metadata": {},
   "outputs": [],
   "source": [
    "sm = SMOTE(random_state=2)\n",
    "x_train_res,y_train_res = sm.fit_resample(x_train,y_train)"
   ]
  },
  {
   "cell_type": "code",
   "execution_count": null,
   "id": "1eeff112",
   "metadata": {},
   "outputs": [
    {
     "data": {
      "text/plain": [
       "((5493420, 4), (5493420, 1))"
      ]
     },
     "execution_count": 75,
     "metadata": {},
     "output_type": "execute_result"
    }
   ],
   "source": [
    "x_train_res.shape,y_train_res.shape"
   ]
  },
  {
   "cell_type": "code",
   "execution_count": null,
   "id": "c6b938c2",
   "metadata": {},
   "outputs": [
    {
     "data": {
      "text/plain": [
       "(5493420, 5493420, 5493420)"
      ]
     },
     "execution_count": 76,
     "metadata": {},
     "output_type": "execute_result"
    }
   ],
   "source": [
    "len(y_train_res[y_train_res==0]),len(y_train_res[y_train_res==1]),len(y_train_res[y_train_res==2])"
   ]
  },
  {
   "cell_type": "code",
   "execution_count": null,
   "id": "d066855a",
   "metadata": {},
   "outputs": [
    {
     "data": {
      "text/plain": [
       "CASE_STATUS\n",
       "0              1831140\n",
       "1              1831140\n",
       "2              1831140\n",
       "dtype: int64"
      ]
     },
     "execution_count": 77,
     "metadata": {},
     "output_type": "execute_result"
    }
   ],
   "source": [
    "y_train_res.value_counts()"
   ]
  },
  {
   "cell_type": "code",
   "execution_count": null,
   "id": "fdfb25b5",
   "metadata": {},
   "outputs": [
    {
     "data": {
      "text/plain": [
       "<AxesSubplot:ylabel='None'>"
      ]
     },
     "execution_count": 78,
     "metadata": {},
     "output_type": "execute_result"
    },
    {
     "data": {
      "image/png": "[encoded data removed]",
      "text/plain": [
       "<Figure size 640x480 with 1 Axes>"
      ]
     },
     "metadata": {},
     "output_type": "display_data"
    }
   ],
   "source": [
    "y_train_res.value_counts().plot.pie(autopct='%.2f')"
   ]
  },
  {
   "cell_type": "markdown",
   "id": "57ca2006",
   "metadata": {},
   "source": [
    "# Model Building"
   ]
  },
  {
   "cell_type": "markdown",
   "id": "8cda49ad",
   "metadata": {},
   "source": [
    "LOGISTIC REGRESSION"
   ]
  },
  {
   "cell_type": "code",
   "execution_count": null,
   "id": "593fca06",
   "metadata": {},
   "outputs": [
    {
     "data": {
      "text/plain": [
       "LogisticRegression()"
      ]
     },
     "execution_count": 79,
     "metadata": {},
     "output_type": "execute_result"
    }
   ],
   "source": [
    "from sklearn.linear_model import LogisticRegression\n",
    "lr =  LogisticRegression()\n",
    "lr.fit(x_train_res,y_train_res.values.ravel())"
   ]
  },
  {
   "cell_type": "code",
   "execution_count": null,
   "id": "aa419f7f",
   "metadata": {},
   "outputs": [
    {
     "name": "stdout",
     "output_type": "stream",
     "text": [
      "[0 2 0 ... 0 2 0]\n"
     ]
    }
   ],
   "source": [
    "y_pred_lr = lr.predict(x_test)\n",
    "print(y_pred_lr)"
   ]
  },
  {
   "cell_type": "code",
   "execution_count": null,
   "id": "9bf421af",
   "metadata": {},
   "outputs": [
    {
     "name": "stdout",
     "output_type": "stream",
     "text": [
      "         CASE_STATUS\n",
      "1665407            0\n",
      "1390727            1\n",
      "2274252            0\n",
      "889263             0\n",
      "638705             0\n",
      "...              ...\n",
      "418131             0\n",
      "142758             1\n",
      "1514775            0\n",
      "2333769            0\n",
      "157631             1\n",
      "\n",
      "[873325 rows x 1 columns]\n"
     ]
    }
   ],
   "source": [
    "print(y_test)"
   ]
  },
  {
   "cell_type": "code",
   "execution_count": null,
   "id": "82208d33",
   "metadata": {},
   "outputs": [
    {
     "name": "stdout",
     "output_type": "stream",
     "text": [
      "              precision    recall  f1-score   support\n",
      "\n",
      "           0       0.91      0.58      0.71    784445\n",
      "           1       0.09      0.20      0.12     60990\n",
      "           2       0.03      0.23      0.05     27890\n",
      "\n",
      "    accuracy                           0.54    873325\n",
      "   macro avg       0.34      0.34      0.29    873325\n",
      "weighted avg       0.82      0.54      0.64    873325\n",
      "\n"
     ]
    }
   ],
   "source": [
    "from sklearn.metrics import classification_report\n",
    "print(classification_report(y_test,y_pred_lr,zero_division = 0))"
   ]
  },
  {
   "cell_type": "code",
   "execution_count": null,
   "id": "77ab595a",
   "metadata": {},
   "outputs": [
    {
     "name": "stdout",
     "output_type": "stream",
     "text": [
      "0.5385509403715685\n"
     ]
    }
   ],
   "source": [
    "from sklearn.metrics import accuracy_score\n",
    "print(accuracy_score(y_test,y_pred_lr))"
   ]
  },
  {
   "cell_type": "markdown",
   "id": "a2e36b8e",
   "metadata": {},
   "source": [
    "Decision Tree "
   ]
  },
  {
   "cell_type": "code",
   "execution_count": null,
   "id": "10ddaeee",
   "metadata": {},
   "outputs": [
    {
     "data": {
      "text/plain": [
       "DecisionTreeClassifier()"
      ]
     },
     "execution_count": 84,
     "metadata": {},
     "output_type": "execute_result"
    }
   ],
   "source": [
    "from sklearn import tree\n",
    "model_dt = tree.DecisionTreeClassifier()\n",
    "model_dt.fit(x_train_res, y_train_res)"
   ]
  },
  {
   "cell_type": "code",
   "execution_count": null,
   "id": "4bbda3d8",
   "metadata": {},
   "outputs": [
    {
     "name": "stdout",
     "output_type": "stream",
     "text": [
      "[0 1 1 ... 0 1 0]\n"
     ]
    }
   ],
   "source": [
    "y_pred_dt = model_dt.predict(x_test)\n",
    "print(y_pred_dt)"
   ]
  },
  {
   "cell_type": "code",
   "execution_count": null,
   "id": "be5cc27d",
   "metadata": {},
   "outputs": [
    {
     "name": "stdout",
     "output_type": "stream",
     "text": [
      "              precision    recall  f1-score   support\n",
      "\n",
      "           0       0.92      0.71      0.80    784445\n",
      "           1       0.15      0.42      0.22     60990\n",
      "           2       0.09      0.33      0.14     27890\n",
      "\n",
      "    accuracy                           0.68    873325\n",
      "   macro avg       0.39      0.49      0.39    873325\n",
      "weighted avg       0.84      0.68      0.74    873325\n",
      "\n"
     ]
    }
   ],
   "source": [
    "from sklearn.metrics import classification_report\n",
    "print(classification_report(y_test,y_pred_dt,zero_division = 0))"
   ]
  },
  {
   "cell_type": "code",
   "execution_count": null,
   "id": "4c06b598",
   "metadata": {},
   "outputs": [
    {
     "data": {
      "text/plain": [
       "0.6801969484441646"
      ]
     },
     "execution_count": 87,
     "metadata": {},
     "output_type": "execute_result"
    }
   ],
   "source": [
    "from sklearn.metrics import accuracy_score\n",
    "accuracy_score(y_test,y_pred_dt)"
   ]
  },
  {
   "cell_type": "markdown",
   "id": "04672aa2",
   "metadata": {},
   "source": [
    "Random Forest Classification"
   ]
  },
  {
   "cell_type": "code",
   "execution_count": null,
   "id": "04ba2d05",
   "metadata": {},
   "outputs": [
    {
     "data": {
      "text/plain": [
       "RandomForestClassifier()"
      ]
     },
     "execution_count": 88,
     "metadata": {},
     "output_type": "execute_result"
    }
   ],
   "source": [
    "from sklearn.ensemble import RandomForestClassifier\n",
    "rf = RandomForestClassifier()\n",
    "rf.fit(x_train_res, y_train_res.values.ravel())"
   ]
  },
  {
   "cell_type": "code",
   "execution_count": null,
   "id": "e80a9ba3",
   "metadata": {},
   "outputs": [
    {
     "name": "stdout",
     "output_type": "stream",
     "text": [
      "[0 1 1 ... 0 1 0]\n"
     ]
    }
   ],
   "source": [
    "y_pred_rf =rf.predict(x_test)\n",
    "print(y_pred_rf)"
   ]
  },
  {
   "cell_type": "code",
   "execution_count": null,
   "id": "66b3f802",
   "metadata": {},
   "outputs": [
    {
     "name": "stdout",
     "output_type": "stream",
     "text": [
      "              precision    recall  f1-score   support\n",
      "\n",
      "           0       0.92      0.71      0.80    784445\n",
      "           1       0.15      0.43      0.22     60990\n",
      "           2       0.09      0.34      0.14     27890\n",
      "\n",
      "    accuracy                           0.68    873325\n",
      "   macro avg       0.39      0.49      0.39    873325\n",
      "weighted avg       0.84      0.68      0.74    873325\n",
      "\n"
     ]
    }
   ],
   "source": [
    "from sklearn.metrics import classification_report\n",
    "print(classification_report(y_test, y_pred_rf))"
   ]
  },
  {
   "cell_type": "code",
   "execution_count": null,
   "id": "408c6410",
   "metadata": {},
   "outputs": [
    {
     "data": {
      "text/plain": [
       "0.6771488277559901"
      ]
     },
     "execution_count": 91,
     "metadata": {},
     "output_type": "execute_result"
    }
   ],
   "source": [
    "from sklearn.metrics import accuracy_score\n",
    "accuracy_score(y_test,y_pred_rf)"
   ]
  },
  {
   "cell_type": "markdown",
   "id": "5ff77d40",
   "metadata": {},
   "source": [
    "K-Nearest Neighbors"
   ]
  },
  {
   "cell_type": "code",
   "execution_count": null,
   "id": "f03d6555",
   "metadata": {},
   "outputs": [
    {
     "data": {
      "text/plain": [
       "KNeighborsClassifier()"
      ]
     },
     "execution_count": 92,
     "metadata": {},
     "output_type": "execute_result"
    }
   ],
   "source": [
    "from sklearn.neighbors import KNeighborsClassifier\n",
    "KNN = KNeighborsClassifier()\n",
    "KNN.fit(x_train_res,y_train_res.values.ravel())"
   ]
  },
  {
   "cell_type": "code",
   "execution_count": null,
   "id": "98fb2e18",
   "metadata": {},
   "outputs": [
    {
     "name": "stderr",
     "output_type": "stream",
     "text": [
      "C:\\Users\\balu2\\anaconda3\\lib\\site-packages\\sklearn\\neighbors\\_classification.py:228: FutureWarning: Unlike other reduction functions (e.g. `skew`, `kurtosis`), the default behavior of `mode` typically preserves the axis it acts along. In SciPy 1.11.0, this behavior will change: the default value of `keepdims` will become False, the `axis` over which the statistic is taken will be eliminated, and the value None will no longer be accepted. Set `keepdims` to True or False to avoid this warning.\n",
      "  mode, _ = stats.mode(_y[neigh_ind, k], axis=1)\n"
     ]
    },
    {
     "name": "stdout",
     "output_type": "stream",
     "text": [
      "[0 0 0 ... 0 0 0]\n"
     ]
    }
   ],
   "source": [
    "y_pred_KNN = KNN.predict(x_test)\n",
    "print(y_pred_KNN)"
   ]
  },
  {
   "cell_type": "code",
   "execution_count": null,
   "id": "941bc7b4",
   "metadata": {},
   "outputs": [
    {
     "name": "stdout",
     "output_type": "stream",
     "text": [
      "              precision    recall  f1-score   support\n",
      "\n",
      "           0       0.91      0.96      0.93    784445\n",
      "           1       0.31      0.12      0.18     60990\n",
      "           2       0.15      0.11      0.13     27890\n",
      "\n",
      "    accuracy                           0.87    873325\n",
      "   macro avg       0.45      0.40      0.41    873325\n",
      "weighted avg       0.84      0.87      0.85    873325\n",
      "\n"
     ]
    }
   ],
   "source": [
    "from sklearn.metrics import classification_report\n",
    "print(classification_report(y_test,y_pred_KNN,zero_division = 0))"
   ]
  },
  {
   "cell_type": "code",
   "execution_count": null,
   "id": "5ea8e3fc",
   "metadata": {},
   "outputs": [
    {
     "data": {
      "text/plain": [
       "0.8732396301491426"
      ]
     },
     "execution_count": 95,
     "metadata": {},
     "output_type": "execute_result"
    }
   ],
   "source": [
    "from sklearn.metrics import accuracy_score\n",
    "accuracy_score(y_test,y_pred_KNN)"
   ]
  },
  {
   "cell_type": "markdown",
   "id": "e7017fa5",
   "metadata": {},
   "source": [
    "# comparing accuracies of four models"
   ]
  },
  {
   "cell_type": "code",
   "execution_count": null,
   "id": "ba30fe9f",
   "metadata": {},
   "outputs": [
    {
     "name": "stdout",
     "output_type": "stream",
     "text": [
      "0.5385509403715685\n"
     ]
    }
   ],
   "source": [
    "#logistic regression\n",
    "from sklearn.metrics import accuracy_score\n",
    "print(accuracy_score(y_test,y_pred_lr))"
   ]
  },
  {
   "cell_type": "code",
   "execution_count": null,
   "id": "8e09ba61",
   "metadata": {},
   "outputs": [
    {
     "name": "stdout",
     "output_type": "stream",
     "text": [
      "0.6801969484441646\n"
     ]
    }
   ],
   "source": [
    "#Decision Tree\n",
    "from sklearn.metrics import accuracy_score\n",
    "print(accuracy_score(y_test,y_pred_dt))"
   ]
  },
  {
   "cell_type": "code",
   "execution_count": null,
   "id": "2f27abb8",
   "metadata": {},
   "outputs": [
    {
     "name": "stdout",
     "output_type": "stream",
     "text": [
      "0.6771488277559901\n"
     ]
    }
   ],
   "source": [
    "#Random Forest\n",
    "from sklearn.metrics import accuracy_score\n",
    "print(accuracy_score(y_test,y_pred_rf))"
   ]
  },
  {
   "cell_type": "code",
   "execution_count": null,
   "id": "90502fe3",
   "metadata": {},
   "outputs": [
    {
     "name": "stdout",
     "output_type": "stream",
     "text": [
      "0.8732396301491426\n"
     ]
    }
   ],
   "source": [
    "#KNN\n",
    "from sklearn.metrics import accuracy_score\n",
    "print(accuracy_score(y_test,y_pred_KNN))"
   ]
  },
  {
   "cell_type": "markdown",
   "id": "649000f2",
   "metadata": {},
   "source": [
    "# Conclusion"
   ]
  },
  {
   "cell_type": "markdown",
   "id": "60f0f9a2",
   "metadata": {},
   "source": [
    "At the end of our modelling step, we build four models: Logistic Regression, Decision Tree,Random Forest and KNN.We noticed that the KNN gave a better result when compared to others. Hence, it will be selected to deploy the web application using IBM cloud."
   ]
  },
  {
   "cell_type": "markdown",
   "id": "6ea16905",
   "metadata": {},
   "source": [
    "# Saving The Model"
   ]
  },
  {
   "cell_type": "code",
   "execution_count": null,
   "id": "5e8fb8d7",
   "metadata": {},
   "outputs": [],
   "source": [
    "import pickle\n",
    "pickle.dump(KNN,open(\"Visa.pkl\",'wb'))"
   ]
  }
 ],
 "metadata": {
  "kernelspec": {
   "display_name": "Python 3 (ipykernel)",
   "language": "python",
   "name": "python3"
  },
  "language_info": {
   "codemirror_mode": {
    "name": "ipython",
    "version": 3
   },
   "file_extension": ".py",
   "mimetype": "text/x-python",
   "name": "python",
   "nbconvert_exporter": "python",
   "pygments_lexer": "ipython3",
   "version": "3.9.13"
  }
 },
 "nbformat": 4,
 "nbformat_minor": 5
}
